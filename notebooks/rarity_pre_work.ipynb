{
 "cells": [
  {
   "cell_type": "markdown",
   "id": "09daead9-6c6f-4b6b-864f-564febc63c24",
   "metadata": {},
   "source": [
    "Rarity Analysis will look at items listed in the catalog and measures how difficult it would be to acquire. \n",
    "\n",
    "This notebook lays the groundwork for that analysis by doing the following:\n",
    "1. **Defines items** (by exploring the available catalogs. e.g. a \"Reaction\" is not an item, a \"bag\" is an item. Only the latter will be evaluated for rarity.)\n",
    "3. Defines criteria to be measured against to **determine rarity** (by exploring the columns in each catalog. Any dimension that indicates availability/restrictions/etc. could factor into the rarity calculation.)\n",
    "4. Determine the **rarity calculation** (based on the values within relevant columns, what items are rare and what items are common?) "
   ]
  },
  {
   "cell_type": "code",
   "execution_count": 25,
   "id": "0b5f7395-2d13-42d9-bae0-a31dffc94276",
   "metadata": {},
   "outputs": [],
   "source": [
    "import os\n",
    "import sys\n",
    "import pandas as pd\n",
    "os.chdir('..') #change the current working directory\n",
    "sys.path.append(os.getcwd()) #add diretory to the path"
   ]
  },
  {
   "cell_type": "markdown",
   "id": "d631223f-12a2-4161-a83c-46d1ff0d5ca4",
   "metadata": {
    "jp-MarkdownHeadingCollapsed": true
   },
   "source": [
    "<h4>Load Data</h4>"
   ]
  },
  {
   "cell_type": "code",
   "execution_count": 2,
   "id": "e8664264-8cae-42ca-b02b-02122814d455",
   "metadata": {},
   "outputs": [
    {
     "name": "stdout",
     "output_type": "stream",
     "text": [
      "Loaded accessories with 222 rows and 22 columns.\n",
      "Loaded achievements with 84 rows and 21 columns.\n",
      "Loaded art with 70 rows and 26 columns.\n",
      "Loaded bags with 96 rows and 20 columns.\n",
      "Loaded bottoms with 726 rows and 20 columns.\n",
      "Loaded construction with 236 rows and 7 columns.\n",
      "Loaded dress-up with 913 rows and 22 columns.\n",
      "Loaded fencing with 19 rows and 11 columns.\n",
      "Loaded fish with 80 rows and 41 columns.\n",
      "Loaded floors with 176 rows and 19 columns.\n",
      "Loaded fossils with 73 rows and 14 columns.\n",
      "Loaded headwear with 698 rows and 22 columns.\n",
      "Loaded housewares with 3275 rows and 32 columns.\n",
      "Loaded insects with 80 rows and 38 columns.\n",
      "Loaded miscellaneous with 1307 rows and 31 columns.\n",
      "Loaded music with 98 rows and 13 columns.\n",
      "Loaded other with 353 rows and 15 columns.\n",
      "Loaded photos with 3128 rows and 20 columns.\n",
      "Loaded posters with 452 rows and 13 columns.\n",
      "Loaded reactions with 44 rows and 5 columns.\n",
      "Loaded recipes with 595 rows and 24 columns.\n",
      "Loaded rugs with 132 rows and 19 columns.\n",
      "Loaded shoes with 454 rows and 21 columns.\n",
      "Loaded socks with 350 rows and 21 columns.\n",
      "Loaded tools with 200 rows and 22 columns.\n",
      "Loaded tops with 1121 rows and 21 columns.\n",
      "Loaded umbrellas with 67 rows and 16 columns.\n",
      "Loaded villagers with 391 rows and 17 columns.\n",
      "Loaded wall-mounted with 3275 rows and 31 columns.\n",
      "Loaded wallpaper with 247 rows and 26 columns.\n"
     ]
    }
   ],
   "source": [
    "from load_python import load_data\n",
    "data = load_data(data_folder='data')"
   ]
  },
  {
   "cell_type": "markdown",
   "id": "4caf2df1-d346-4cc9-84d4-dc9f64638d57",
   "metadata": {},
   "source": [
    "items = **accessories**, **art**, **bags**, **dress-up**, **floors**, **headwear**, **bottoms**, **housewares**, **posters**, **socks**, **shoes**, **rugs**, **tops**, **umbrellas**, **wall-mounted**, **wallpaper**."
   ]
  },
  {
   "cell_type": "markdown",
   "id": "b9912641-509a-47e2-9766-d92fec858055",
   "metadata": {
    "jp-MarkdownHeadingCollapsed": true
   },
   "source": [
    "<h4>Explore item dimensions (columns)</h4>"
   ]
  },
  {
   "cell_type": "code",
   "execution_count": 3,
   "id": "b0ce5111-07c0-430d-b699-fd93f34f6a27",
   "metadata": {},
   "outputs": [
    {
     "name": "stdout",
     "output_type": "stream",
     "text": [
      "Index(['Name', 'Variation', 'DIY', 'Buy', 'Sell', 'Color 1', 'Color 2', 'Size',\n",
      "       'Miles Price', 'Source', 'Source Notes', 'Seasonal Availability',\n",
      "       'Mannequin Piece', 'Version', 'Style', 'Label Themes', 'Type',\n",
      "       'Villager Equippable', 'Catalog', 'Filename', 'Internal ID',\n",
      "       'Unique Entry ID'],\n",
      "      dtype='object')\n"
     ]
    }
   ],
   "source": [
    "#Accessories\n",
    "accessories_df = data['accessories'] #access the Accessories data from the dictionary\n",
    "print(accessories_df.columns) #retrieve the column names\n"
   ]
  },
  {
   "cell_type": "code",
   "execution_count": 4,
   "id": "e6932f40-4522-4133-bfef-7ad0936c82aa",
   "metadata": {},
   "outputs": [
    {
     "name": "stdout",
     "output_type": "stream",
     "text": [
      "Index(['Name', 'Genuine', 'Category', 'Buy', 'Sell', 'Color 1', 'Color 2',\n",
      "       'Size', 'Real Artwork Title', 'Artist', 'Museum Description', 'Source',\n",
      "       'Source Notes', 'Version', 'HHA Concept 1', 'HHA Concept 2',\n",
      "       'HHA Series', 'HHA Set', 'Interact', 'Tag', 'Speaker Type',\n",
      "       'Lighting Type', 'Catalog', 'Filename', 'Internal ID',\n",
      "       'Unique Entry ID'],\n",
      "      dtype='object')\n"
     ]
    }
   ],
   "source": [
    "#Art\n",
    "art_df = data['art'] #access the item's data from the dictionary\n",
    "print(art_df.columns) #retrieve the column names\n"
   ]
  },
  {
   "cell_type": "code",
   "execution_count": 5,
   "id": "ca96318d-5b6e-4465-901d-3599fc7331f9",
   "metadata": {},
   "outputs": [
    {
     "name": "stdout",
     "output_type": "stream",
     "text": [
      "Index(['Name', 'Variation', 'DIY', 'Buy', 'Sell', 'Color 1', 'Color 2', 'Size',\n",
      "       'Miles Price', 'Source', 'Source Notes', 'Seasonal Availability',\n",
      "       'Version', 'Style', 'Label Themes', 'Villager Equippable', 'Catalog',\n",
      "       'Filename', 'Internal ID', 'Unique Entry ID'],\n",
      "      dtype='object')\n"
     ]
    }
   ],
   "source": [
    "#Bags\n",
    "bags_df = data['bags'] #access the item's data from the dictionary\n",
    "print(bags_df.columns) #retrieve the column names\n"
   ]
  },
  {
   "cell_type": "code",
   "execution_count": 6,
   "id": "c8d66714-1617-4ec6-a5c5-658a5583b87f",
   "metadata": {},
   "outputs": [
    {
     "name": "stdout",
     "output_type": "stream",
     "text": [
      "Index(['Name', 'Variation', 'DIY', 'Buy', 'Sell', 'Color 1', 'Color 2', 'Size',\n",
      "       'Source', 'Source Notes', 'Seasonal Availability', 'Mannequin Piece',\n",
      "       'Version', 'Style', 'Label Themes', 'Villager Equippable', 'Catalog',\n",
      "       'Filename', 'Internal ID', 'Unique Entry ID'],\n",
      "      dtype='object')\n"
     ]
    }
   ],
   "source": [
    "#Bottoms\n",
    "bottoms_df = data['bottoms'] #access the item's data from the dictionary\n",
    "print(bottoms_df.columns) #retrieve the column names\n"
   ]
  },
  {
   "cell_type": "code",
   "execution_count": 7,
   "id": "546503e4-e156-4f57-9c2a-e9575e04000b",
   "metadata": {},
   "outputs": [
    {
     "name": "stdout",
     "output_type": "stream",
     "text": [
      "Index(['Name', 'Variation', 'DIY', 'Buy', 'Sell', 'Color 1', 'Color 2', 'Size',\n",
      "       'Source', 'Source Notes', 'Seasonal Availability', 'Mannequin Piece',\n",
      "       'Version', 'Style', 'Label Themes', 'Villager Equippable', 'Catalog',\n",
      "       'Primary Shape', 'Secondary Shape', 'Filename', 'Internal ID',\n",
      "       'Unique Entry ID'],\n",
      "      dtype='object')\n"
     ]
    }
   ],
   "source": [
    "#dress-up\n",
    "dressup_df = data['dress-up'] #access the item's data from the dictionary\n",
    "print(dressup_df.columns) #retrieve the column names\n"
   ]
  },
  {
   "cell_type": "code",
   "execution_count": 8,
   "id": "b17dfdb7-5ffe-42d3-b26e-eca5c83be162",
   "metadata": {},
   "outputs": [
    {
     "name": "stdout",
     "output_type": "stream",
     "text": [
      "Index(['Name', 'VFX', 'DIY', 'Buy', 'Sell', 'Color 1', 'Color 2',\n",
      "       'Miles Price', 'Source', 'Source Notes', 'Version', 'HHA Concept 1',\n",
      "       'HHA Concept 2', 'HHA Series', 'Tag', 'Catalog', 'Filename',\n",
      "       'Internal ID', 'Unique Entry ID'],\n",
      "      dtype='object')\n"
     ]
    }
   ],
   "source": [
    "#floors\n",
    "floors_df = data['floors'] #access the item's data from the dictionary\n",
    "print(floors_df.columns) #retrieve the column names\n"
   ]
  },
  {
   "cell_type": "code",
   "execution_count": 9,
   "id": "6e5a1dde-6e0e-49a9-88a6-be2082eaa59c",
   "metadata": {},
   "outputs": [
    {
     "name": "stdout",
     "output_type": "stream",
     "text": [
      "Index(['Name', 'Variation', 'DIY', 'Buy', 'Sell', 'Color 1', 'Color 2', 'Size',\n",
      "       'Miles Price', 'Source', 'Source Notes', 'Seasonal Availability',\n",
      "       'Mannequin Piece', 'Version', 'Style', 'Label Themes', 'Type',\n",
      "       'Villager Equippable', 'Catalog', 'Filename', 'Internal ID',\n",
      "       'Unique Entry ID'],\n",
      "      dtype='object')\n"
     ]
    }
   ],
   "source": [
    "#headwear\n",
    "headwear_df = data['headwear'] #access the item's data from the dictionary\n",
    "print(headwear_df.columns) #retrieve the column names\n"
   ]
  },
  {
   "cell_type": "code",
   "execution_count": 10,
   "id": "af09f2df-ee60-4857-b4bd-51c0bbff1e1f",
   "metadata": {},
   "outputs": [
    {
     "name": "stdout",
     "output_type": "stream",
     "text": [
      "Index(['Name', 'Variation', 'Body Title', 'Pattern', 'Pattern Title', 'DIY',\n",
      "       'Body Customize', 'Pattern Customize', 'Kit Cost', 'Buy', 'Sell',\n",
      "       'Color 1', 'Color 2', 'Size', 'Miles Price', 'Source', 'Source Notes',\n",
      "       'Version', 'HHA Concept 1', 'HHA Concept 2', 'HHA Series', 'HHA Set',\n",
      "       'Interact', 'Tag', 'Outdoor', 'Speaker Type', 'Lighting Type',\n",
      "       'Catalog', 'Filename', 'Variant ID', 'Internal ID', 'Unique Entry ID'],\n",
      "      dtype='object')\n"
     ]
    }
   ],
   "source": [
    "#housewares\n",
    "housewares_df = data['housewares'] #access the item's data from the dictionary\n",
    "print(housewares_df.columns) #retrieve the column names\n"
   ]
  },
  {
   "cell_type": "code",
   "execution_count": 11,
   "id": "73eabdf3-f090-45eb-b41e-345b3185feb1",
   "metadata": {},
   "outputs": [
    {
     "name": "stdout",
     "output_type": "stream",
     "text": [
      "Index(['Name', 'Buy', 'Sell', 'Color 1', 'Color 2', 'Size', 'Source',\n",
      "       'Source Notes', 'Version', 'Catalog', 'Filename', 'Internal ID',\n",
      "       'Unique Entry ID'],\n",
      "      dtype='object')\n"
     ]
    }
   ],
   "source": [
    "#posters\n",
    "posters_df = data['posters'] #access the item's data from the dictionary\n",
    "print(posters_df.columns) #retrieve the column names\n"
   ]
  },
  {
   "cell_type": "code",
   "execution_count": 12,
   "id": "bfdb4103-f8e3-4842-9350-c86dfe720850",
   "metadata": {},
   "outputs": [
    {
     "name": "stdout",
     "output_type": "stream",
     "text": [
      "Index(['Name', 'DIY', 'Buy', 'Sell', 'Color 1', 'Color 2', 'Size',\n",
      "       'Miles Price', 'Source', 'Source Notes', 'Version', 'HHA Concept 1',\n",
      "       'HHA Concept 2', 'HHA Series', 'Tag', 'Catalog', 'Filename',\n",
      "       'Internal ID', 'Unique Entry ID'],\n",
      "      dtype='object')\n"
     ]
    }
   ],
   "source": [
    "#rugs\n",
    "rugs_df = data['rugs'] #access the item's data from the dictionary\n",
    "print(rugs_df.columns) #retrieve the column names\n"
   ]
  },
  {
   "cell_type": "code",
   "execution_count": 13,
   "id": "cc518288-88b9-4fe9-9210-5d95dbcd3c90",
   "metadata": {},
   "outputs": [
    {
     "name": "stdout",
     "output_type": "stream",
     "text": [
      "Index(['Name', 'Variation', 'DIY', 'Buy', 'Sell', 'Color 1', 'Color 2', 'Size',\n",
      "       'Miles Price', 'Source', 'Source Notes', 'Seasonal Availability',\n",
      "       'Mannequin Piece', 'Version', 'Style', 'Label Themes',\n",
      "       'Villager Equippable', 'Catalog', 'Filename', 'Internal ID',\n",
      "       'Unique Entry ID'],\n",
      "      dtype='object')\n"
     ]
    }
   ],
   "source": [
    "#shoes\n",
    "shoes_df = data['shoes'] #access the item's data from the dictionary\n",
    "print(shoes_df.columns) #retrieve the column names\n"
   ]
  },
  {
   "cell_type": "code",
   "execution_count": 14,
   "id": "222c1880-ab04-49b2-8fc7-acf2333aad05",
   "metadata": {},
   "outputs": [
    {
     "name": "stdout",
     "output_type": "stream",
     "text": [
      "Index(['Name', 'Variation', 'DIY', 'Buy', 'Sell', 'Color 1', 'Color 2', 'Size',\n",
      "       'Miles Price', 'Source', 'Source Notes', 'Seasonal Availability',\n",
      "       'Mannequin Piece', 'Version', 'Style', 'Label Themes',\n",
      "       'Villager Equippable', 'Catalog', 'Filename', 'Internal ID',\n",
      "       'Unique Entry ID'],\n",
      "      dtype='object')\n"
     ]
    }
   ],
   "source": [
    "#socks\n",
    "socks_df = data['socks'] #access the item's data from the dictionary\n",
    "print(socks_df.columns) #retrieve the column names\n"
   ]
  },
  {
   "cell_type": "code",
   "execution_count": 15,
   "id": "85ed2e45-5206-49ac-99b1-0ae4926c69a1",
   "metadata": {},
   "outputs": [
    {
     "name": "stdout",
     "output_type": "stream",
     "text": [
      "Index(['Name', 'Variation', 'DIY', 'Buy', 'Sell', 'Color 1', 'Color 2', 'Size',\n",
      "       'Miles Price', 'Source', 'Source Notes', 'Seasonal Availability',\n",
      "       'Mannequin Piece', 'Version', 'Style', 'Label Themes',\n",
      "       'Villager Equippable', 'Catalog', 'Filename', 'Internal ID',\n",
      "       'Unique Entry ID'],\n",
      "      dtype='object')\n"
     ]
    }
   ],
   "source": [
    "#tops\n",
    "tops_df = data['tops'] #access the item's data from the dictionary\n",
    "print(tops_df.columns) #retrieve the column names\n"
   ]
  },
  {
   "cell_type": "code",
   "execution_count": 16,
   "id": "d4ea6182-2145-4704-ab19-f2f2c6a2352a",
   "metadata": {},
   "outputs": [
    {
     "name": "stdout",
     "output_type": "stream",
     "text": [
      "Index(['Name', 'DIY', 'Buy', 'Sell', 'Color 1', 'Color 2', 'Size',\n",
      "       'Miles Price', 'Source', 'Source Notes', 'Version',\n",
      "       'Villager Equippable', 'Catalog', 'Filename', 'Internal ID',\n",
      "       'Unique Entry ID'],\n",
      "      dtype='object')\n"
     ]
    }
   ],
   "source": [
    "#umbrellas\n",
    "umbrellas_df = data['umbrellas'] #access the item's data from the dictionary\n",
    "print(umbrellas_df.columns) #retrieve the column names\n"
   ]
  },
  {
   "cell_type": "code",
   "execution_count": 17,
   "id": "99530577-14ba-4c41-805f-c0a899956e4b",
   "metadata": {},
   "outputs": [
    {
     "name": "stdout",
     "output_type": "stream",
     "text": [
      "Index(['Name', 'Variation', 'Body Title', 'Pattern', 'Pattern Title', 'DIY',\n",
      "       'Body Customize', 'Pattern Customize', 'Kit Cost', 'Buy', 'Sell',\n",
      "       'Color 1', 'Color 2', 'Size', 'Source', 'Source Notes', 'Version',\n",
      "       'HHA Concept 1', 'HHA Concept 2', 'HHA Series', 'HHA Set', 'Interact',\n",
      "       'Tag', 'Outdoor', 'Lighting Type', 'Door Deco', 'Catalog', 'Filename',\n",
      "       'Variant ID', 'Internal ID', 'Unique Entry ID'],\n",
      "      dtype='object')\n"
     ]
    }
   ],
   "source": [
    "#Wall-mounted\n",
    "wall_mounted_df = data['wall-mounted'] #access the item's data from the dictionary\n",
    "print(wall_mounted_df.columns) #retrieve the column names\n"
   ]
  },
  {
   "cell_type": "code",
   "execution_count": 18,
   "id": "e1e64d99-a39d-4896-9d86-de8e7ca15067",
   "metadata": {},
   "outputs": [
    {
     "name": "stdout",
     "output_type": "stream",
     "text": [
      "Index(['Name', 'VFX', 'VFX Type', 'DIY', 'Buy', 'Sell', 'Color 1', 'Color 2',\n",
      "       'Miles Price', 'Source', 'Source Notes', 'Catalog', 'Window Type',\n",
      "       'Window Color', 'Pane Type', 'Curtain Type', 'Curtain Color',\n",
      "       'Ceiling Type', 'HHA Concept 1', 'HHA Concept 2', 'HHA Series', 'Tag',\n",
      "       'Version', 'Filename', 'Internal ID', 'Unique Entry ID'],\n",
      "      dtype='object')\n"
     ]
    }
   ],
   "source": [
    "#Wallpaper\n",
    "wallpaper_df = data['wallpaper'] #access the item's data from the dictionary\n",
    "print(wallpaper_df.columns) #retrieve the column names\n"
   ]
  },
  {
   "cell_type": "markdown",
   "id": "8a62b846-27bd-4675-9ff0-009ef7233211",
   "metadata": {},
   "source": [
    "**Seasonal Availability**, **Source**, **Source Notes**, and **Catalog** are all relevant to the Rarity Analysis. "
   ]
  },
  {
   "cell_type": "markdown",
   "id": "88108807-19ec-497a-b78d-814481483182",
   "metadata": {},
   "source": [
    "<h4>Identify dataframes that contain relevant dimensions.</h4>"
   ]
  },
  {
   "cell_type": "markdown",
   "id": "c0bcbed1-07e4-4c0b-b521-d23e18695a99",
   "metadata": {},
   "source": [
    "**Seasonal Availability**, **Source**, **Source Notes**, and **Catalog** are all relevant to the Rarity Analysis. \n",
    "1. **Seasonal Availability**: indicates restrictions on **when** item is available\n",
    "2. **Source**: indicates restrictions on **where** item is available\n",
    "3. **Source Notes**: indicates restrictions on **where** item is available\n",
    "4. **Catalog**: indicates restrictions on **how** item is available"
   ]
  },
  {
   "cell_type": "code",
   "execution_count": 19,
   "id": "d332015b-a398-4a3b-a1e1-831f6961118e",
   "metadata": {},
   "outputs": [],
   "source": [
    "#Get all dataframes containing x column\n",
    "#def get_dfs_with_column(data, column_name): #create the function that'll return relevant dataframes\n",
    "#    items = []\n",
    "#    for name, df in data.items():\n",
    "#        if column_name in df.columns:\n",
    "#            items.append(name)\n",
    "#    return items"
   ]
  },
  {
   "cell_type": "code",
   "execution_count": 20,
   "id": "6c567244-fe65-4f5e-95eb-9f1986791d9f",
   "metadata": {},
   "outputs": [
    {
     "name": "stdout",
     "output_type": "stream",
     "text": [
      "Dataframes with \"Seasonal Availability\" Column:  ['accessories', 'bags', 'bottoms', 'dress-up', 'headwear', 'shoes', 'socks', 'tops']\n"
     ]
    }
   ],
   "source": [
    "#Get all dataframes containing Seasonal Availability column\n",
    "def get_dfs_with_column(data, column_name): #create the function that'll return relevant dataframes\n",
    "    items = []\n",
    "    for name, df in data.items():\n",
    "        if column_name in df.columns:\n",
    "            items.append(name)\n",
    "    return items\n",
    "#call the function\n",
    "results = get_dfs_with_column(data, 'Seasonal Availability')\n",
    "print('Dataframes with \"Seasonal Availability\" Column: ', results)"
   ]
  },
  {
   "cell_type": "code",
   "execution_count": 21,
   "id": "c8b4391c-763f-4da6-975f-4eda05c912b8",
   "metadata": {},
   "outputs": [
    {
     "name": "stdout",
     "output_type": "stream",
     "text": [
      "Dataframes with \"Source\" Column:  ['accessories', 'art', 'bags', 'bottoms', 'construction', 'dress-up', 'fencing', 'floors', 'fossils', 'headwear', 'housewares', 'miscellaneous', 'music', 'other', 'photos', 'posters', 'reactions', 'recipes', 'rugs', 'shoes', 'socks', 'tools', 'tops', 'umbrellas', 'wall-mounted', 'wallpaper']\n"
     ]
    }
   ],
   "source": [
    "#Get all dataframes containing Source column\n",
    "def get_dfs_with_column(data, column_name): #create the function that'll return relevant dataframes\n",
    "    items = []\n",
    "    for name, df in data.items():\n",
    "        if column_name in df.columns:\n",
    "            items.append(name)\n",
    "    return items\n",
    "#call the function\n",
    "results = get_dfs_with_column(data, 'Source')\n",
    "print('Dataframes with \"Source\" Column: ', results)"
   ]
  },
  {
   "cell_type": "code",
   "execution_count": 22,
   "id": "40f45e00-c101-449c-addd-e8547a8c804f",
   "metadata": {},
   "outputs": [
    {
     "name": "stdout",
     "output_type": "stream",
     "text": [
      "Dataframes with \"Source Notes\" Column:  ['accessories', 'art', 'bags', 'bottoms', 'dress-up', 'fencing', 'floors', 'headwear', 'housewares', 'miscellaneous', 'music', 'other', 'posters', 'reactions', 'recipes', 'rugs', 'shoes', 'socks', 'tools', 'tops', 'umbrellas', 'wall-mounted', 'wallpaper']\n"
     ]
    }
   ],
   "source": [
    "#Get all dataframes containing Source Notes column\n",
    "def get_dfs_with_column(data, column_name): #create the function that'll return relevant dataframes\n",
    "    items = []\n",
    "    for name, df in data.items():\n",
    "        if column_name in df.columns:\n",
    "            items.append(name)\n",
    "    return items\n",
    "#call the function\n",
    "results = get_dfs_with_column(data, 'Source Notes')\n",
    "print('Dataframes with \"Source Notes\" Column: ', results)"
   ]
  },
  {
   "cell_type": "code",
   "execution_count": 23,
   "id": "4142b5c9-ebfa-40a9-840b-54640bceb66c",
   "metadata": {},
   "outputs": [
    {
     "name": "stdout",
     "output_type": "stream",
     "text": [
      "Dataframes with \"Catalog\" column:  ['accessories', 'art', 'bags', 'bottoms', 'dress-up', 'floors', 'fossils', 'headwear', 'housewares', 'miscellaneous', 'music', 'photos', 'posters', 'rugs', 'shoes', 'socks', 'tops', 'umbrellas', 'wall-mounted', 'wallpaper']\n"
     ]
    }
   ],
   "source": [
    "#Get all dataframes containing Catalog column\n",
    "def get_dfs_with_column(data, column_name): #create the function that'll return relevant dataframes\n",
    "    items = []\n",
    "    for name, df in data.items():\n",
    "        if column_name in df.columns:\n",
    "            items.append(name)\n",
    "    return items\n",
    "#call the function\n",
    "results = get_dfs_with_column(data, 'Catalog')\n",
    "print('Dataframes with \"Catalog\" column: ', results)"
   ]
  },
  {
   "cell_type": "markdown",
   "id": "3aad556a-a305-49bc-b241-70022e70765b",
   "metadata": {},
   "source": [
    "Combine relevant dataframes into a single rarity_df."
   ]
  },
  {
   "cell_type": "markdown",
   "id": "edfc0941-61b5-4c40-baf8-66a6ac289f0c",
   "metadata": {
    "jp-MarkdownHeadingCollapsed": true
   },
   "source": [
    "<h4>Explore unique values within the relevant dimension</h4>"
   ]
  },
  {
   "cell_type": "markdown",
   "id": "3ea7295c-27c5-41a9-83cb-359ff54970b4",
   "metadata": {},
   "source": [
    "**Seasonal Availability**, **Source**, **Source Notes**, and **Catalog** are all relevant to the Rarity Analysis. \n",
    "1. **Seasonal Availability**: indicates restrictions on **when** item is available\n",
    "2. **Source**: indicates restrictions on **where** item is available\n",
    "3. **Source Notes**: indicates restrictions on **where** item is available\n",
    "4. **Catalog**: indicates restrictions on **how** item is available"
   ]
  },
  {
   "cell_type": "markdown",
   "id": "af400781-8dc6-47e1-9d6f-5de82c24cc6a",
   "metadata": {},
   "source": [
    "<h4>Plan for calculation</h4>"
   ]
  },
  {
   "cell_type": "markdown",
   "id": "6d44000f-d1b1-4f0e-83df-55d680b267e1",
   "metadata": {},
   "source": [
    "Item availability can be restricted based on **when**, **where**, and **how** it can be obtained by player."
   ]
  },
  {
   "cell_type": "markdown",
   "id": "cd9e3422-ceb5-40c4-a693-4f40346567ee",
   "metadata": {},
   "source": [
    "Establish rarity scale:\n",
    "1. Common (no restrictions)\n",
    "2. Normal - neither scarce or common (1-2 restrictions)\n",
    "3. Scarce (3-4 restrictions)\n",
    "4. Rare (5+ restrictions)"
   ]
  },
  {
   "cell_type": "code",
   "execution_count": null,
   "id": "6c494b88-8c9d-4a56-ba0c-982bf46b9160",
   "metadata": {},
   "outputs": [],
   "source": []
  },
  {
   "cell_type": "markdown",
   "id": "b61f2630-6e70-4860-9177-13d9cb437321",
   "metadata": {},
   "source": [
    "<h4>Cleaning To Do's</h4>"
   ]
  },
  {
   "cell_type": "markdown",
   "id": "70f8ab79-505f-445d-8a90-89c2b08a97b3",
   "metadata": {},
   "source": [
    "**Round 1:  *Narrow the scope of items we're evaluating.***\n",
    "\n",
    "1. Concat the item dataframes (key value = Unique Entry ID)\n",
    "2. Remove irrelevant columns (keep = Seasonal Availability, Source, Source Notes, and Catalog)\n",
    "3. Add a column that indicates the source dataframe (new column name = Item Type)"
   ]
  },
  {
   "cell_type": "markdown",
   "id": "216e2cbc-0cf9-42c8-8cc9-aeb961a7ec52",
   "metadata": {},
   "source": [
    "**Round 2:  *Resolve seasonal categorization errors.***\n",
    "\n",
    "Item dataframes sometimes used the \"Source Notes\" to indicates seasonal restrictions instead of \"Seasonal Availability\". \n",
    "\n",
    "Some dataframes *did not contain* a \"Seasonal Availability\" column to start with.\n",
    "\n",
    "This should be updated as follows:\n",
    "1. If Source Notes = \"Only available during Fall\" update Seasonal Availability to say \"Fall\"\n",
    "2. If Source Notes = \"Only available during Spring\" update Seasonal Availability to say \"Spring\"\n",
    "3. If Source Notes = \"Only available during Winter\" update Seasonal Availability to say \"Winter\"\n",
    "4. If Source Notes = \"Only available during Summer\" update Seasonal Availability to say \"Summer\"\n",
    "\n",
    "Some items have *holiday seasonality* vs. *meteorological seasonality*.\n",
    "\n",
    "This should be updated as follows:\n",
    "1. If Source Notes contains \"Festive Season\" update Seasonal Availability to say \"Winter\"\n",
    "2. If Source Notes contains \"Cherry-Blossom Season\" update Seasonal Availability to say \"Spring\"\n",
    "3. If Source Notes contains \"Maple Leaf Season\" update Seasonal Availability to say \"Fall\"\n",
    "4. If Source Notes contains \"Mushroom Season\" update Seasonal Availability to say \"Fall\"\n",
    "5. If Source Notes contains \"Wedding Season\" update Seasonal Availability to say \"Summer\""
   ]
  },
  {
   "cell_type": "code",
   "execution_count": null,
   "id": "a43c934b-36c9-45eb-94a1-133573f04ea0",
   "metadata": {},
   "outputs": [],
   "source": []
  }
 ],
 "metadata": {
  "kernelspec": {
   "display_name": "Python 3 (ipykernel)",
   "language": "python",
   "name": "python3"
  },
  "language_info": {
   "codemirror_mode": {
    "name": "ipython",
    "version": 3
   },
   "file_extension": ".py",
   "mimetype": "text/x-python",
   "name": "python",
   "nbconvert_exporter": "python",
   "pygments_lexer": "ipython3",
   "version": "3.11.9"
  }
 },
 "nbformat": 4,
 "nbformat_minor": 5
}
