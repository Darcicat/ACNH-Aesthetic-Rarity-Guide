{
 "cells": [
  {
   "cell_type": "markdown",
   "id": "09daead9-6c6f-4b6b-864f-564febc63c24",
   "metadata": {},
   "source": [
    "Rarity Analysis will look at items listed in the catalog and measures how difficult it would be to acquire. \n",
    "\"Items\" include: accessories, art, bags, dress-up, floors, headwear, bottoms, housewares, posters.\n",
    "This notebook does the following:\n",
    "1. Defines items (by exploring the available catalogs. e.g. a \"Reaction\" is not an item, a \"bag\" is an item. Only the latter will be evaluated for rarity.)\n",
    "3. Defines criteria to be measured against to determine rarity (by exploring the columns in each catalog. Any dimension that indicates availability/restrictions/etc. could factor into the rarity calculation.)\n",
    "4. Determine the rarity calculation (based on the values within relevant columns, what items are rare and what items are common?) "
   ]
  },
  {
   "cell_type": "code",
   "execution_count": 1,
   "id": "0b5f7395-2d13-42d9-bae0-a31dffc94276",
   "metadata": {},
   "outputs": [],
   "source": [
    "import os\n",
    "import sys\n",
    "import pandas as pd\n",
    "os.chdir('..') #change the current working directory\n",
    "sys.path.append(os.getcwd()) #add diretory to the path"
   ]
  },
  {
   "cell_type": "code",
   "execution_count": 2,
   "id": "e8664264-8cae-42ca-b02b-02122814d455",
   "metadata": {},
   "outputs": [
    {
     "name": "stdout",
     "output_type": "stream",
     "text": [
      "Loaded accessories with 222 rows and 22 columns.\n",
      "Loaded achievements with 84 rows and 21 columns.\n",
      "Loaded art with 70 rows and 26 columns.\n",
      "Loaded bags with 96 rows and 20 columns.\n",
      "Loaded bottoms with 726 rows and 20 columns.\n",
      "Loaded construction with 236 rows and 7 columns.\n",
      "Loaded dress-up with 913 rows and 22 columns.\n",
      "Loaded fencing with 19 rows and 11 columns.\n",
      "Loaded fish with 80 rows and 41 columns.\n",
      "Loaded floors with 176 rows and 19 columns.\n",
      "Loaded fossils with 73 rows and 14 columns.\n",
      "Loaded headwear with 698 rows and 22 columns.\n",
      "Loaded housewares with 3275 rows and 32 columns.\n",
      "Loaded insects with 80 rows and 38 columns.\n",
      "Loaded miscellaneous with 1307 rows and 31 columns.\n",
      "Loaded music with 98 rows and 13 columns.\n",
      "Loaded other with 353 rows and 15 columns.\n",
      "Loaded photos with 3128 rows and 20 columns.\n",
      "Loaded posters with 452 rows and 13 columns.\n",
      "Loaded reactions with 44 rows and 5 columns.\n",
      "Loaded recipes with 595 rows and 24 columns.\n",
      "Loaded rugs with 132 rows and 19 columns.\n",
      "Loaded shoes with 454 rows and 21 columns.\n",
      "Loaded socks with 350 rows and 21 columns.\n",
      "Loaded tools with 200 rows and 22 columns.\n",
      "Loaded tops with 1121 rows and 21 columns.\n",
      "Loaded umbrellas with 67 rows and 16 columns.\n",
      "Loaded villagers with 391 rows and 17 columns.\n",
      "Loaded wall-mounted with 3275 rows and 31 columns.\n",
      "Loaded wallpaper with 247 rows and 26 columns.\n"
     ]
    }
   ],
   "source": [
    "from load_python import load_data\n",
    "data = load_data(data_folder='data')"
   ]
  },
  {
   "cell_type": "markdown",
   "id": "b9912641-509a-47e2-9766-d92fec858055",
   "metadata": {},
   "source": [
    "Look into each item DataFrame to understand what columns we have."
   ]
  },
  {
   "cell_type": "code",
   "execution_count": 3,
   "id": "b0ce5111-07c0-430d-b699-fd93f34f6a27",
   "metadata": {},
   "outputs": [
    {
     "name": "stdout",
     "output_type": "stream",
     "text": [
      "Index(['Name', 'Variation', 'DIY', 'Buy', 'Sell', 'Color 1', 'Color 2', 'Size',\n",
      "       'Miles Price', 'Source', 'Source Notes', 'Seasonal Availability',\n",
      "       'Mannequin Piece', 'Version', 'Style', 'Label Themes', 'Type',\n",
      "       'Villager Equippable', 'Catalog', 'Filename', 'Internal ID',\n",
      "       'Unique Entry ID'],\n",
      "      dtype='object')\n"
     ]
    }
   ],
   "source": [
    "#Accessories\n",
    "accessories_df = data['accessories'] #access the Accessories data from the dictionary\n",
    "print(accessories_df.columns) #retrieve the column names\n"
   ]
  },
  {
   "cell_type": "code",
   "execution_count": 4,
   "id": "e6932f40-4522-4133-bfef-7ad0936c82aa",
   "metadata": {},
   "outputs": [
    {
     "name": "stdout",
     "output_type": "stream",
     "text": [
      "Index(['Name', 'Genuine', 'Category', 'Buy', 'Sell', 'Color 1', 'Color 2',\n",
      "       'Size', 'Real Artwork Title', 'Artist', 'Museum Description', 'Source',\n",
      "       'Source Notes', 'Version', 'HHA Concept 1', 'HHA Concept 2',\n",
      "       'HHA Series', 'HHA Set', 'Interact', 'Tag', 'Speaker Type',\n",
      "       'Lighting Type', 'Catalog', 'Filename', 'Internal ID',\n",
      "       'Unique Entry ID'],\n",
      "      dtype='object')\n"
     ]
    }
   ],
   "source": [
    "#Art\n",
    "art_df = data['art'] #access the item's data from the dictionary\n",
    "print(art_df.columns) #retrieve the column names\n"
   ]
  },
  {
   "cell_type": "code",
   "execution_count": 5,
   "id": "ca96318d-5b6e-4465-901d-3599fc7331f9",
   "metadata": {},
   "outputs": [
    {
     "name": "stdout",
     "output_type": "stream",
     "text": [
      "Index(['Name', 'Variation', 'DIY', 'Buy', 'Sell', 'Color 1', 'Color 2', 'Size',\n",
      "       'Miles Price', 'Source', 'Source Notes', 'Seasonal Availability',\n",
      "       'Version', 'Style', 'Label Themes', 'Villager Equippable', 'Catalog',\n",
      "       'Filename', 'Internal ID', 'Unique Entry ID'],\n",
      "      dtype='object')\n"
     ]
    }
   ],
   "source": [
    "#Bags\n",
    "bags_df = data['bags'] #access the item's data from the dictionary\n",
    "print(bags_df.columns) #retrieve the column names\n"
   ]
  },
  {
   "cell_type": "code",
   "execution_count": 6,
   "id": "c8d66714-1617-4ec6-a5c5-658a5583b87f",
   "metadata": {},
   "outputs": [
    {
     "name": "stdout",
     "output_type": "stream",
     "text": [
      "Index(['Name', 'Variation', 'DIY', 'Buy', 'Sell', 'Color 1', 'Color 2', 'Size',\n",
      "       'Source', 'Source Notes', 'Seasonal Availability', 'Mannequin Piece',\n",
      "       'Version', 'Style', 'Label Themes', 'Villager Equippable', 'Catalog',\n",
      "       'Filename', 'Internal ID', 'Unique Entry ID'],\n",
      "      dtype='object')\n"
     ]
    }
   ],
   "source": [
    "#Bottoms\n",
    "bottoms_df = data['bottoms'] #access the item's data from the dictionary\n",
    "print(bottoms_df.columns) #retrieve the column names\n"
   ]
  },
  {
   "cell_type": "code",
   "execution_count": 7,
   "id": "546503e4-e156-4f57-9c2a-e9575e04000b",
   "metadata": {},
   "outputs": [
    {
     "name": "stdout",
     "output_type": "stream",
     "text": [
      "Index(['Name', 'Variation', 'DIY', 'Buy', 'Sell', 'Color 1', 'Color 2', 'Size',\n",
      "       'Source', 'Source Notes', 'Seasonal Availability', 'Mannequin Piece',\n",
      "       'Version', 'Style', 'Label Themes', 'Villager Equippable', 'Catalog',\n",
      "       'Primary Shape', 'Secondary Shape', 'Filename', 'Internal ID',\n",
      "       'Unique Entry ID'],\n",
      "      dtype='object')\n"
     ]
    }
   ],
   "source": [
    "#dress-up\n",
    "dressup_df = data['dress-up'] #access the item's data from the dictionary\n",
    "print(dressup_df.columns) #retrieve the column names\n"
   ]
  },
  {
   "cell_type": "code",
   "execution_count": 8,
   "id": "b17dfdb7-5ffe-42d3-b26e-eca5c83be162",
   "metadata": {},
   "outputs": [
    {
     "name": "stdout",
     "output_type": "stream",
     "text": [
      "Index(['Name', 'VFX', 'DIY', 'Buy', 'Sell', 'Color 1', 'Color 2',\n",
      "       'Miles Price', 'Source', 'Source Notes', 'Version', 'HHA Concept 1',\n",
      "       'HHA Concept 2', 'HHA Series', 'Tag', 'Catalog', 'Filename',\n",
      "       'Internal ID', 'Unique Entry ID'],\n",
      "      dtype='object')\n"
     ]
    }
   ],
   "source": [
    "#floors\n",
    "floors_df = data['floors'] #access the item's data from the dictionary\n",
    "print(floors_df.columns) #retrieve the column names\n"
   ]
  },
  {
   "cell_type": "code",
   "execution_count": 9,
   "id": "6e5a1dde-6e0e-49a9-88a6-be2082eaa59c",
   "metadata": {},
   "outputs": [
    {
     "name": "stdout",
     "output_type": "stream",
     "text": [
      "Index(['Name', 'Variation', 'DIY', 'Buy', 'Sell', 'Color 1', 'Color 2', 'Size',\n",
      "       'Miles Price', 'Source', 'Source Notes', 'Seasonal Availability',\n",
      "       'Mannequin Piece', 'Version', 'Style', 'Label Themes', 'Type',\n",
      "       'Villager Equippable', 'Catalog', 'Filename', 'Internal ID',\n",
      "       'Unique Entry ID'],\n",
      "      dtype='object')\n"
     ]
    }
   ],
   "source": [
    "#headwear\n",
    "headwear_df = data['headwear'] #access the item's data from the dictionary\n",
    "print(headwear_df.columns) #retrieve the column names\n"
   ]
  },
  {
   "cell_type": "code",
   "execution_count": 10,
   "id": "af09f2df-ee60-4857-b4bd-51c0bbff1e1f",
   "metadata": {},
   "outputs": [
    {
     "name": "stdout",
     "output_type": "stream",
     "text": [
      "Index(['Name', 'Variation', 'Body Title', 'Pattern', 'Pattern Title', 'DIY',\n",
      "       'Body Customize', 'Pattern Customize', 'Kit Cost', 'Buy', 'Sell',\n",
      "       'Color 1', 'Color 2', 'Size', 'Miles Price', 'Source', 'Source Notes',\n",
      "       'Version', 'HHA Concept 1', 'HHA Concept 2', 'HHA Series', 'HHA Set',\n",
      "       'Interact', 'Tag', 'Outdoor', 'Speaker Type', 'Lighting Type',\n",
      "       'Catalog', 'Filename', 'Variant ID', 'Internal ID', 'Unique Entry ID'],\n",
      "      dtype='object')\n"
     ]
    }
   ],
   "source": [
    "#housewares\n",
    "housewares_df = data['housewares'] #access the item's data from the dictionary\n",
    "print(housewares_df.columns) #retrieve the column names\n"
   ]
  },
  {
   "cell_type": "code",
   "execution_count": 11,
   "id": "ef884d81-cc9b-47bc-bc57-8f2ab0ac10e2",
   "metadata": {},
   "outputs": [
    {
     "name": "stdout",
     "output_type": "stream",
     "text": [
      "Index(['Name', 'Variation', 'Body Title', 'Pattern', 'Pattern Title', 'DIY',\n",
      "       'Body Customize', 'Pattern Customize', 'Kit Cost', 'Buy', 'Sell',\n",
      "       'Color 1', 'Color 2', 'Size', 'Source', 'Source Notes', 'Version',\n",
      "       'HHA Concept 1', 'HHA Concept 2', 'HHA Series', 'HHA Set', 'Interact',\n",
      "       'Tag', 'Outdoor', 'Speaker Type', 'Lighting Type', 'Catalog',\n",
      "       'Filename', 'Variant ID', 'Internal ID', 'Unique Entry ID'],\n",
      "      dtype='object')\n"
     ]
    }
   ],
   "source": [
    "#miscellaneous\n",
    "misc_df = data['miscellaneous'] #access the item's data from the dictionary\n",
    "print(misc_df.columns) #retrieve the column names\n"
   ]
  },
  {
   "cell_type": "code",
   "execution_count": 12,
   "id": "66435b3a-5ea9-4936-bada-4c203b57feb8",
   "metadata": {},
   "outputs": [
    {
     "name": "stdout",
     "output_type": "stream",
     "text": [
      "Index(['Name', 'Buy', 'Sell', 'Color 1', 'Color 2', 'Size', 'Source',\n",
      "       'Source Notes', 'Version', 'Catalog', 'Filename', 'Internal ID',\n",
      "       'Unique Entry ID'],\n",
      "      dtype='object')\n"
     ]
    }
   ],
   "source": [
    "#music\n",
    "music_df = data['music'] #access the item's data from the dictionary\n",
    "print(music_df.columns) #retrieve the column names\n"
   ]
  },
  {
   "cell_type": "code",
   "execution_count": 13,
   "id": "8a6f9996-8b0c-44ea-a9a2-4b04d2303bbf",
   "metadata": {},
   "outputs": [
    {
     "name": "stdout",
     "output_type": "stream",
     "text": [
      "Index(['Name', 'DIY', 'Stack Size', 'Buy', 'Sell', 'Miles Price', 'Source',\n",
      "       'Source Notes', 'Tag', 'Color 1', 'Color 2', 'Version', 'Filename',\n",
      "       'Internal ID', 'Unique Entry ID'],\n",
      "      dtype='object')\n"
     ]
    }
   ],
   "source": [
    "#other\n",
    "other_df = data['other'] #access the item's data from the dictionary\n",
    "print(other_df.columns) #retrieve the column names\n"
   ]
  },
  {
   "cell_type": "code",
   "execution_count": 14,
   "id": "eafe058b-baad-4f0b-8dca-3612cdeb9330",
   "metadata": {},
   "outputs": [
    {
     "name": "stdout",
     "output_type": "stream",
     "text": [
      "Index(['Name', 'Variation', 'Body Title', 'Pattern', 'Pattern Title', 'DIY',\n",
      "       'Customize', 'Kit Cost', 'Buy', 'Sell', 'Color 1', 'Color 2', 'Size',\n",
      "       'Source', 'Version', 'Catalog', 'Filename', 'Variant ID', 'Internal ID',\n",
      "       'Unique Entry ID'],\n",
      "      dtype='object')\n"
     ]
    }
   ],
   "source": [
    "#photos\n",
    "photos_df = data['photos'] #access the item's data from the dictionary\n",
    "print(photos_df.columns) #retrieve the column names\n"
   ]
  },
  {
   "cell_type": "code",
   "execution_count": 15,
   "id": "73eabdf3-f090-45eb-b41e-345b3185feb1",
   "metadata": {},
   "outputs": [
    {
     "name": "stdout",
     "output_type": "stream",
     "text": [
      "Index(['Name', 'Buy', 'Sell', 'Color 1', 'Color 2', 'Size', 'Source',\n",
      "       'Source Notes', 'Version', 'Catalog', 'Filename', 'Internal ID',\n",
      "       'Unique Entry ID'],\n",
      "      dtype='object')\n"
     ]
    }
   ],
   "source": [
    "#posters\n",
    "posters_df = data['posters'] #access the item's data from the dictionary\n",
    "print(posters_df.columns) #retrieve the column names\n"
   ]
  },
  {
   "cell_type": "code",
   "execution_count": 16,
   "id": "8ce4a1ed-dabc-412b-99dd-8f03ac54ea27",
   "metadata": {},
   "outputs": [
    {
     "name": "stdout",
     "output_type": "stream",
     "text": [
      "Index(['Name', '#1', 'Material 1', '#2', 'Material 2', '#3', 'Material 3',\n",
      "       '#4', 'Material 4', '#5', 'Material 5', '#6', 'Material 6', 'Buy',\n",
      "       'Sell', 'Miles Price', 'Source', 'Source Notes', 'Recipes to Unlock',\n",
      "       'Version', 'Category', 'Serial ID', 'Internal ID', 'Unique Entry ID'],\n",
      "      dtype='object')\n"
     ]
    }
   ],
   "source": [
    "#recipes\n",
    "recipes_df = data['recipes'] #access the item's data from the dictionary\n",
    "print(recipes_df.columns) #retrieve the column names\n"
   ]
  },
  {
   "cell_type": "code",
   "execution_count": 17,
   "id": "bfdb4103-f8e3-4842-9350-c86dfe720850",
   "metadata": {},
   "outputs": [
    {
     "name": "stdout",
     "output_type": "stream",
     "text": [
      "Index(['Name', 'DIY', 'Buy', 'Sell', 'Color 1', 'Color 2', 'Size',\n",
      "       'Miles Price', 'Source', 'Source Notes', 'Version', 'HHA Concept 1',\n",
      "       'HHA Concept 2', 'HHA Series', 'Tag', 'Catalog', 'Filename',\n",
      "       'Internal ID', 'Unique Entry ID'],\n",
      "      dtype='object')\n"
     ]
    }
   ],
   "source": [
    "#rugs\n",
    "rugs_df = data['rugs'] #access the item's data from the dictionary\n",
    "print(rugs_df.columns) #retrieve the column names\n"
   ]
  },
  {
   "cell_type": "code",
   "execution_count": 18,
   "id": "cc518288-88b9-4fe9-9210-5d95dbcd3c90",
   "metadata": {},
   "outputs": [
    {
     "name": "stdout",
     "output_type": "stream",
     "text": [
      "Index(['Name', 'Variation', 'DIY', 'Buy', 'Sell', 'Color 1', 'Color 2', 'Size',\n",
      "       'Miles Price', 'Source', 'Source Notes', 'Seasonal Availability',\n",
      "       'Mannequin Piece', 'Version', 'Style', 'Label Themes',\n",
      "       'Villager Equippable', 'Catalog', 'Filename', 'Internal ID',\n",
      "       'Unique Entry ID'],\n",
      "      dtype='object')\n"
     ]
    }
   ],
   "source": [
    "#shoes\n",
    "shoes_df = data['shoes'] #access the item's data from the dictionary\n",
    "print(shoes_df.columns) #retrieve the column names\n"
   ]
  },
  {
   "cell_type": "code",
   "execution_count": 19,
   "id": "222c1880-ab04-49b2-8fc7-acf2333aad05",
   "metadata": {},
   "outputs": [
    {
     "name": "stdout",
     "output_type": "stream",
     "text": [
      "Index(['Name', 'Variation', 'DIY', 'Buy', 'Sell', 'Color 1', 'Color 2', 'Size',\n",
      "       'Miles Price', 'Source', 'Source Notes', 'Seasonal Availability',\n",
      "       'Mannequin Piece', 'Version', 'Style', 'Label Themes',\n",
      "       'Villager Equippable', 'Catalog', 'Filename', 'Internal ID',\n",
      "       'Unique Entry ID'],\n",
      "      dtype='object')\n"
     ]
    }
   ],
   "source": [
    "#socks\n",
    "socks_df = data['socks'] #access the item's data from the dictionary\n",
    "print(socks_df.columns) #retrieve the column names\n"
   ]
  },
  {
   "cell_type": "code",
   "execution_count": 20,
   "id": "0f7db9b0-a6ae-4b9e-993d-7bfa6ba8e755",
   "metadata": {},
   "outputs": [
    {
     "name": "stdout",
     "output_type": "stream",
     "text": [
      "Index(['Name', 'Variation', 'Body Title', 'DIY', 'Customize', 'Kit Cost',\n",
      "       'Uses', 'Stack Size', 'Buy', 'Sell', 'Color 1', 'Color 2', 'Size',\n",
      "       'Set', 'Miles Price', 'Source', 'Source Notes', 'Version', 'Filename',\n",
      "       'Variant ID', 'Internal ID', 'Unique Entry ID'],\n",
      "      dtype='object')\n"
     ]
    }
   ],
   "source": [
    "#tools\n",
    "tools_df = data['tools'] #access the item's data from the dictionary\n",
    "print(tools_df.columns) #retrieve the column names\n"
   ]
  },
  {
   "cell_type": "code",
   "execution_count": 21,
   "id": "85ed2e45-5206-49ac-99b1-0ae4926c69a1",
   "metadata": {},
   "outputs": [
    {
     "name": "stdout",
     "output_type": "stream",
     "text": [
      "Index(['Name', 'Variation', 'DIY', 'Buy', 'Sell', 'Color 1', 'Color 2', 'Size',\n",
      "       'Miles Price', 'Source', 'Source Notes', 'Seasonal Availability',\n",
      "       'Mannequin Piece', 'Version', 'Style', 'Label Themes',\n",
      "       'Villager Equippable', 'Catalog', 'Filename', 'Internal ID',\n",
      "       'Unique Entry ID'],\n",
      "      dtype='object')\n"
     ]
    }
   ],
   "source": [
    "#tops\n",
    "tops_df = data['tops'] #access the item's data from the dictionary\n",
    "print(tops_df.columns) #retrieve the column names\n"
   ]
  },
  {
   "cell_type": "code",
   "execution_count": 22,
   "id": "d4ea6182-2145-4704-ab19-f2f2c6a2352a",
   "metadata": {},
   "outputs": [
    {
     "name": "stdout",
     "output_type": "stream",
     "text": [
      "Index(['Name', 'DIY', 'Buy', 'Sell', 'Color 1', 'Color 2', 'Size',\n",
      "       'Miles Price', 'Source', 'Source Notes', 'Version',\n",
      "       'Villager Equippable', 'Catalog', 'Filename', 'Internal ID',\n",
      "       'Unique Entry ID'],\n",
      "      dtype='object')\n"
     ]
    }
   ],
   "source": [
    "#umbrellas\n",
    "umbrellas_df = data['umbrellas'] #access the item's data from the dictionary\n",
    "print(umbrellas_df.columns) #retrieve the column names\n"
   ]
  },
  {
   "cell_type": "code",
   "execution_count": null,
   "id": "fb9edbee-a85f-42c1-b9ae-3d64a3ab0c7b",
   "metadata": {},
   "outputs": [],
   "source": []
  },
  {
   "cell_type": "code",
   "execution_count": 23,
   "id": "0f54d99e-de22-48cf-8f20-88216472d5f3",
   "metadata": {},
   "outputs": [
    {
     "name": "stdout",
     "output_type": "stream",
     "text": [
      "Index(['Name', 'Species', 'Gender', 'Personality', 'Hobby', 'Birthday',\n",
      "       'Catchphrase', 'Favorite Song', 'Style 1', 'Style 2', 'Color 1',\n",
      "       'Color 2', 'Wallpaper', 'Flooring', 'Furniture List', 'Filename',\n",
      "       'Unique Entry ID'],\n",
      "      dtype='object')\n"
     ]
    }
   ],
   "source": [
    "#villagers\n",
    "villagers_df = data['villagers'] #access the item's data from the dictionary\n",
    "print(villagers_df.columns) #retrieve the column names\n"
   ]
  },
  {
   "cell_type": "code",
   "execution_count": 24,
   "id": "99530577-14ba-4c41-805f-c0a899956e4b",
   "metadata": {},
   "outputs": [
    {
     "name": "stdout",
     "output_type": "stream",
     "text": [
      "Index(['Name', 'Variation', 'Body Title', 'Pattern', 'Pattern Title', 'DIY',\n",
      "       'Body Customize', 'Pattern Customize', 'Kit Cost', 'Buy', 'Sell',\n",
      "       'Color 1', 'Color 2', 'Size', 'Source', 'Source Notes', 'Version',\n",
      "       'HHA Concept 1', 'HHA Concept 2', 'HHA Series', 'HHA Set', 'Interact',\n",
      "       'Tag', 'Outdoor', 'Lighting Type', 'Door Deco', 'Catalog', 'Filename',\n",
      "       'Variant ID', 'Internal ID', 'Unique Entry ID'],\n",
      "      dtype='object')\n"
     ]
    }
   ],
   "source": [
    "#Wall-mounted\n",
    "wall_mounted_df = data['wall-mounted'] #access the item's data from the dictionary\n",
    "print(wall_mounted_df.columns) #retrieve the column names\n"
   ]
  },
  {
   "cell_type": "code",
   "execution_count": 25,
   "id": "e1e64d99-a39d-4896-9d86-de8e7ca15067",
   "metadata": {},
   "outputs": [
    {
     "name": "stdout",
     "output_type": "stream",
     "text": [
      "Index(['Name', 'VFX', 'VFX Type', 'DIY', 'Buy', 'Sell', 'Color 1', 'Color 2',\n",
      "       'Miles Price', 'Source', 'Source Notes', 'Catalog', 'Window Type',\n",
      "       'Window Color', 'Pane Type', 'Curtain Type', 'Curtain Color',\n",
      "       'Ceiling Type', 'HHA Concept 1', 'HHA Concept 2', 'HHA Series', 'Tag',\n",
      "       'Version', 'Filename', 'Internal ID', 'Unique Entry ID'],\n",
      "      dtype='object')\n"
     ]
    }
   ],
   "source": [
    "#Wallpaper\n",
    "wallpaper_df = data['wallpaper'] #access the item's data from the dictionary\n",
    "print(wallpaper_df.columns) #retrieve the column names\n"
   ]
  },
  {
   "cell_type": "markdown",
   "id": "8a62b846-27bd-4675-9ff0-009ef7233211",
   "metadata": {},
   "source": [
    "What columns are relevant to the Rarity Analysis?\n",
    "1. Seasonal Availability.\n",
    "2. Source Notes. (Where the item is available, restrictions/source exclusivity.)\n",
    "3. Body Customize, Pattern Customize (Ability to customize.)\n",
    "5. Catalog. (whether for sale or not)"
   ]
  },
  {
   "cell_type": "code",
   "execution_count": 26,
   "id": "d332015b-a398-4a3b-a1e1-831f6961118e",
   "metadata": {},
   "outputs": [],
   "source": [
    "#Get all dataframes containing x column\n",
    "#def get_dfs_with_column(data, column_name): #create the function that'll return relevant dataframes\n",
    "#    items = []\n",
    "#    for name, df in data.items():\n",
    "#        if column_name in df.columns:\n",
    "#            items.append(name)\n",
    "#    return items"
   ]
  },
  {
   "cell_type": "code",
   "execution_count": 27,
   "id": "6c567244-fe65-4f5e-95eb-9f1986791d9f",
   "metadata": {},
   "outputs": [
    {
     "name": "stdout",
     "output_type": "stream",
     "text": [
      "Dataframes with \"Seasonal Availability\" Column:  ['accessories', 'bags', 'bottoms', 'dress-up', 'headwear', 'shoes', 'socks', 'tops']\n"
     ]
    }
   ],
   "source": [
    "#Get all dataframes containing Seasonal Availability column\n",
    "def get_dfs_with_column(data, column_name): #create the function that'll return relevant dataframes\n",
    "    items = []\n",
    "    for name, df in data.items():\n",
    "        if column_name in df.columns:\n",
    "            items.append(name)\n",
    "    return items\n",
    "#call the function\n",
    "results = get_dfs_with_column(data, 'Seasonal Availability')\n",
    "print('Dataframes with \"Seasonal Availability\" Column: ', results)"
   ]
  },
  {
   "cell_type": "code",
   "execution_count": 28,
   "id": "c8b4391c-763f-4da6-975f-4eda05c912b8",
   "metadata": {},
   "outputs": [
    {
     "name": "stdout",
     "output_type": "stream",
     "text": [
      "Dataframes with \"Source Notes\" Column:  ['accessories', 'art', 'bags', 'bottoms', 'dress-up', 'fencing', 'floors', 'headwear', 'housewares', 'miscellaneous', 'music', 'other', 'posters', 'reactions', 'recipes', 'rugs', 'shoes', 'socks', 'tools', 'tops', 'umbrellas', 'wall-mounted', 'wallpaper']\n"
     ]
    }
   ],
   "source": [
    "#Get all dataframes containing Source Notes column\n",
    "def get_dfs_with_column(data, column_name): #create the function that'll return relevant dataframes\n",
    "    items = []\n",
    "    for name, df in data.items():\n",
    "        if column_name in df.columns:\n",
    "            items.append(name)\n",
    "    return items\n",
    "#call the function\n",
    "results = get_dfs_with_column(data, 'Source Notes')\n",
    "print('Dataframes with \"Source Notes\" Column: ', results)"
   ]
  },
  {
   "cell_type": "code",
   "execution_count": 29,
   "id": "6dd24c2a-c2c6-478c-91fc-8a7f17251afe",
   "metadata": {},
   "outputs": [
    {
     "name": "stdout",
     "output_type": "stream",
     "text": [
      "Dataframes with \"Body Customize\":  ['housewares', 'miscellaneous', 'wall-mounted']\n"
     ]
    }
   ],
   "source": [
    "#Get all dataframes containing Body Customize column\n",
    "def get_dfs_with_column(data, column_name): #create the function that'll return relevant dataframes\n",
    "    items = []\n",
    "    for name, df in data.items():\n",
    "        if column_name in df.columns:\n",
    "            items.append(name)\n",
    "    return items\n",
    "#call the function\n",
    "results = get_dfs_with_column(data, 'Body Customize')\n",
    "print('Dataframes with \"Body Customize\": ', results)"
   ]
  },
  {
   "cell_type": "code",
   "execution_count": 30,
   "id": "73f89950-32ec-4593-8272-29196904aa47",
   "metadata": {},
   "outputs": [
    {
     "name": "stdout",
     "output_type": "stream",
     "text": [
      "Dataframes with \"Pattern Customize\" column:  ['housewares', 'miscellaneous', 'wall-mounted']\n"
     ]
    }
   ],
   "source": [
    "#Get all dataframes containing Pattern Customize column\n",
    "def get_dfs_with_column(data, column_name): #create the function that'll return relevant dataframes\n",
    "    items = []\n",
    "    for name, df in data.items():\n",
    "        if column_name in df.columns:\n",
    "            items.append(name)\n",
    "    return items\n",
    "#call the function\n",
    "results = get_dfs_with_column(data, 'Pattern Customize')\n",
    "print('Dataframes with \"Pattern Customize\" column: ', results)"
   ]
  },
  {
   "cell_type": "code",
   "execution_count": 31,
   "id": "4142b5c9-ebfa-40a9-840b-54640bceb66c",
   "metadata": {},
   "outputs": [
    {
     "name": "stdout",
     "output_type": "stream",
     "text": [
      "Dataframes with \"Catalog\" column:  ['accessories', 'art', 'bags', 'bottoms', 'dress-up', 'floors', 'fossils', 'headwear', 'housewares', 'miscellaneous', 'music', 'photos', 'posters', 'rugs', 'shoes', 'socks', 'tops', 'umbrellas', 'wall-mounted', 'wallpaper']\n"
     ]
    }
   ],
   "source": [
    "#Get all dataframes containing Catalog column\n",
    "def get_dfs_with_column(data, column_name): #create the function that'll return relevant dataframes\n",
    "    items = []\n",
    "    for name, df in data.items():\n",
    "        if column_name in df.columns:\n",
    "            items.append(name)\n",
    "    return items\n",
    "#call the function\n",
    "results = get_dfs_with_column(data, 'Catalog')\n",
    "print('Dataframes with \"Catalog\" column: ', results)"
   ]
  },
  {
   "cell_type": "code",
   "execution_count": null,
   "id": "6a69c9ed-b370-4a5a-b4af-78986142e0d1",
   "metadata": {},
   "outputs": [],
   "source": []
  }
 ],
 "metadata": {
  "kernelspec": {
   "display_name": "Python 3 (ipykernel)",
   "language": "python",
   "name": "python3"
  },
  "language_info": {
   "codemirror_mode": {
    "name": "ipython",
    "version": 3
   },
   "file_extension": ".py",
   "mimetype": "text/x-python",
   "name": "python",
   "nbconvert_exporter": "python",
   "pygments_lexer": "ipython3",
   "version": "3.11.9"
  }
 },
 "nbformat": 4,
 "nbformat_minor": 5
}
