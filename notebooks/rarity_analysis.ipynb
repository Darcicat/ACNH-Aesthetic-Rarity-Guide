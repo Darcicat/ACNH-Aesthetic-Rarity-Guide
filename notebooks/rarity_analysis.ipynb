{
 "cells": [
  {
   "cell_type": "markdown",
   "id": "09daead9-6c6f-4b6b-864f-564febc63c24",
   "metadata": {},
   "source": [
    "Rarity Analysis will look at items listed in the catalog and measures how difficult it would be to acquire. \n",
    "\n",
    "This notebook does the following:\n",
    "1. **Defines items** (by exploring the available catalogs. e.g. a \"Reaction\" is not an item, a \"bag\" is an item. Only the latter will be evaluated for rarity.)\n",
    "3. Defines criteria to be measured against to **determine rarity** (by exploring the columns in each catalog. Any dimension that indicates availability/restrictions/etc. could factor into the rarity calculation.)\n",
    "4. Determine the **rarity calculation** (based on the values within relevant columns, what items are rare and what items are common?) "
   ]
  },
  {
   "cell_type": "code",
   "execution_count": 86,
   "id": "0b5f7395-2d13-42d9-bae0-a31dffc94276",
   "metadata": {},
   "outputs": [
    {
     "ename": "ModuleNotFoundError",
     "evalue": "No module named 'matplotlib'",
     "output_type": "error",
     "traceback": [
      "\u001b[1;31m---------------------------------------------------------------------------\u001b[0m",
      "\u001b[1;31mModuleNotFoundError\u001b[0m                       Traceback (most recent call last)",
      "Cell \u001b[1;32mIn[86], line 4\u001b[0m\n\u001b[0;32m      2\u001b[0m \u001b[38;5;28;01mimport\u001b[39;00m \u001b[38;5;21;01msys\u001b[39;00m\n\u001b[0;32m      3\u001b[0m \u001b[38;5;28;01mimport\u001b[39;00m \u001b[38;5;21;01mpandas\u001b[39;00m \u001b[38;5;28;01mas\u001b[39;00m \u001b[38;5;21;01mpd\u001b[39;00m\n\u001b[1;32m----> 4\u001b[0m \u001b[38;5;28;01mimport\u001b[39;00m \u001b[38;5;21;01mmatplotlib\u001b[39;00m\u001b[38;5;21;01m.\u001b[39;00m\u001b[38;5;21;01mpyplot\u001b[39;00m \u001b[38;5;28;01mas\u001b[39;00m \u001b[38;5;21;01mplt\u001b[39;00m\n\u001b[0;32m      5\u001b[0m os\u001b[38;5;241m.\u001b[39mchdir(\u001b[38;5;124m'\u001b[39m\u001b[38;5;124m..\u001b[39m\u001b[38;5;124m'\u001b[39m) \u001b[38;5;66;03m#change the current working directory\u001b[39;00m\n\u001b[0;32m      6\u001b[0m sys\u001b[38;5;241m.\u001b[39mpath\u001b[38;5;241m.\u001b[39mappend(os\u001b[38;5;241m.\u001b[39mgetcwd()) \u001b[38;5;66;03m#add diretory to the path\u001b[39;00m\n",
      "\u001b[1;31mModuleNotFoundError\u001b[0m: No module named 'matplotlib'"
     ]
    }
   ],
   "source": [
    "import os\n",
    "import sys\n",
    "import pandas as pd\n",
    "import matplotlib.pyplot as plt\n",
    "os.chdir('..') #change the current working directory\n",
    "sys.path.append(os.getcwd()) #add diretory to the path"
   ]
  },
  {
   "cell_type": "markdown",
   "id": "6738f9f7-2bf6-4daa-8f51-2e5051f27278",
   "metadata": {},
   "source": [
    "<h4>Load data</h4>"
   ]
  },
  {
   "cell_type": "code",
   "execution_count": null,
   "id": "93903dde-da5e-4924-b606-fa705c9bae14",
   "metadata": {},
   "outputs": [],
   "source": []
  },
  {
   "cell_type": "code",
   "execution_count": 2,
   "id": "e8664264-8cae-42ca-b02b-02122814d455",
   "metadata": {},
   "outputs": [
    {
     "name": "stdout",
     "output_type": "stream",
     "text": [
      "Loaded rarity2 with 15052 rows and 7 columns.\n"
     ]
    }
   ],
   "source": [
    "from rarity_seasonality_update import load_data\n",
    "data =load_data(data_folder='cleaned_data')"
   ]
  },
  {
   "cell_type": "code",
   "execution_count": 4,
   "id": "2674d477-9c26-4f3d-818d-c3ba6a1dfb37",
   "metadata": {},
   "outputs": [
    {
     "name": "stdout",
     "output_type": "stream",
     "text": [
      "Index(['Unique Entry ID', 'Name', 'Catalog', 'Source', 'Source Notes',\n",
      "       'Seasonal Availability', 'Item Type'],\n",
      "      dtype='object')\n"
     ]
    }
   ],
   "source": [
    "rarity_df = data['rarity2'] #establish data as a dataframe\n",
    "print(rarity_df.columns) #print columns"
   ]
  },
  {
   "cell_type": "code",
   "execution_count": null,
   "id": "f39a167f-13a8-4517-9673-5496071cb369",
   "metadata": {},
   "outputs": [],
   "source": [
    "Establish rarity scale:\n",
    "1. Common (no restrictions)\n",
    "2. Normal - neither scarce or common (1-2 restrictions)\n",
    "3. Scarce (3-4 restrictions)\n",
    "4. Rare (5+ restrictions)"
   ]
  },
  {
   "cell_type": "markdown",
   "id": "7578a649-385a-4c05-a4f6-719dc436a8bc",
   "metadata": {},
   "source": [
    "<h4>Common Items</h4>"
   ]
  },
  {
   "cell_type": "markdown",
   "id": "27402529-a61d-4e35-b2f4-dd8892b874bd",
   "metadata": {},
   "source": [
    "<h5>Common items are able to be purchased year-round.</h5>"
   ]
  },
  {
   "cell_type": "code",
   "execution_count": 78,
   "id": "42b5f594-11a5-4046-8330-11b55d534fab",
   "metadata": {},
   "outputs": [
    {
     "name": "stdout",
     "output_type": "stream",
     "text": [
      "0                   3D glasses\n",
      "1                   3D glasses\n",
      "2                      bandage\n",
      "3                         beak\n",
      "8        bottom-rimmed glasses\n",
      "                 ...          \n",
      "14733        young-royal shirt\n",
      "14734        young-royal shirt\n",
      "14735        young-royal shirt\n",
      "14736        young-royal shirt\n",
      "14737             zigzag shirt\n",
      "Name: Name, Length: 3321, dtype: object\n"
     ]
    }
   ],
   "source": [
    "#Common items are widely available (for sale, all year)\n",
    "print(rarity_df.loc[\n",
    "      (rarity_df['Catalog'] == 'For sale') &\n",
    "      (rarity_df['Seasonal Availability'] == 'All Year'),\n",
    "      'Name'])"
   ]
  },
  {
   "cell_type": "markdown",
   "id": "dc9b181b-fc58-4fc6-a94f-f2717456d353",
   "metadata": {},
   "source": [
    "<h5>Common items are widely available.</h5>"
   ]
  },
  {
   "cell_type": "code",
   "execution_count": 68,
   "id": "7e2ba7cd-f22f-4e06-8167-a2dce56cc735",
   "metadata": {},
   "outputs": [
    {
     "name": "stdout",
     "output_type": "stream",
     "text": [
      "Source Notes\n",
      "50 fences are given by Tom Nook after completing the three house plots during the main storyline       1\n",
      "Only available during the month Mother's Day occurs, region dependant                                  1\n",
      "Received on your first time seeing KK perform                                                          1\n",
      "Received on your first time seeing KK perform during your birthday                                     1\n",
      "Only available during the month Father's Day occurs, region dependant                                  1\n",
      "                                                                                                    ... \n",
      "Available in Nook's Cranny (upgraded only), in the unique furniture slot                             732\n",
      "Available in Nook's Cranny (either upgrade tier) in the unique furniture slot                        790\n",
      "Available from Able Sisters shop only                                                               1906\n",
      "Available from either Mable's temporary shop or Able Sisters shop                                   2054\n",
      "Not Applicable                                                                                      3437\n",
      "Name: count, Length: 72, dtype: int64\n"
     ]
    }
   ],
   "source": [
    "##Common items are widely available. \n",
    "value_counts = rarity_df['Source Notes'].value_counts(ascending=True)\n",
    "\n",
    "print(value_counts)"
   ]
  },
  {
   "cell_type": "code",
   "execution_count": 22,
   "id": "224400ce-3dfa-4001-ac14-4350dc507bed",
   "metadata": {},
   "outputs": [
    {
     "name": "stdout",
     "output_type": "stream",
     "text": [
      "Source Notes\n",
      "Obtained during the main storyline during the villager house development quest                      22\n",
      "Possible song KK will play when choosing \"Laid-back.\" as your mood                                  21\n",
      "Link Nintendo Account to Pocket Camp, then redeem a 16-digit code on your Nintendo Switch           20\n",
      "Possible song KK will play when choosing \"I feel good!\" as your mood                                19\n",
      "Possible song KK will play when choosing \"A little grumpy...\" as your mood                          18\n",
      "Possible song KK will play when choosing \"A little blue...\" as your mood                            17\n",
      "Purchased from Tom Nook on New Year's Eve                                                           16\n",
      "Reward for making a perfect Snowboy; Only available during Winter                                   16\n",
      "Possible song KK will play when choosing \"It's hard to say.\" as your mood                           15\n",
      "Season sale item                                                                                    15\n",
      "Received in mail from DAL after taking certain numbers of flights                                   14\n",
      "Only available during Cherry-Blossom Season                                                         14\n",
      "Found under the Special tab of the Nook Miles Redemption service.                                   13\n",
      "Only available during Festive Season                                                                12\n",
      "Only available during Mushroom Season                                                               12\n",
      "Only available during Spring                                                                        10\n",
      "Only available during Maple Leaf Season                                                              9\n",
      "Only available during Fall                                                                           9\n",
      "Requires a high level of friendship                                                                  8\n",
      "Only available during Summer                                                                         8\n",
      "Purchase Test Your DIY Skills from Nook's Cranny.                                                    7\n",
      "Only available during Winter                                                                         7\n",
      "Available from Able Sisters shop only during Festive Season                                          6\n",
      "Purchase Pretty Good Tools Recipes via Nook Miles Redemption                                         6\n",
      "Purchase Wildest Dreams DIY from Nook's Cranny                                                       6\n",
      "Season sale item\\n*Not available in Europe                                                           5\n",
      "Purchase DIY for Beginners at Nook's Cranny                                                          5\n",
      "Reward for making a perfect snow-person                                                              4\n",
      "Played by K.K. if you request something he doesn't have (does not give take-home track)              3\n",
      "Hidden song - only by request                                                                        3\n",
      "Available from either Mable's temporary shop or Able Sisters shop during Festive Season              3\n",
      "Only available during Wedding Season                                                                 2\n",
      "50 fences are given by Tom Nook after completing the three house plots during the main storyline     1\n",
      "Only available during the month Mother's Day occurs, region dependant                                1\n",
      "From Zipper after trading one of every egg (all 6 types) during Bunny Day.                           1\n",
      "Reward for solving May Day maze                                                                      1\n",
      "Received on your first time seeing KK perform during your birthday                                   1\n",
      "Received on your first time seeing KK perform                                                        1\n",
      "Only available during the month Father's Day occurs, region dependant                                1\n",
      "Large shadow                                                                                         1\n",
      "X-Small shadow when fishing                                                                          1\n",
      "Small shadow                                                                                         1\n",
      "Reward for helping Cyrus & Reese during Wedding Season                                               1\n",
      "Medium shadow                                                                                        1\n",
      "Obtained from Tom Nook after completing one Nature Day Nook Miles+ task                              1\n",
      "Reward from Zipper after collecting all 6 egg types; Only available during Bunny Day                 1\n",
      "Reward from Zipper after crafting wobbling Zipper toy; Only available during Bunny Day               1\n",
      "Reward from Zipper after crafting all Bunny Day recipes; Only available during Bunny Day             1\n",
      "Also obtained from digging up an existing pitfall                                                    1\n",
      "Purchase DIY for Beginners at Nook's Cranny.                                                         1\n",
      "Available after unlocking the axe in the story                                                       1\n",
      "Available after unlocking the shovel in the story                                                    1\n",
      "Obtained by speaking to Isabelle on New Year's Eve                                                   1\n",
      "Only available close to new year holiday                                                             1\n",
      "Only available during May Day Tour                                                                   1\n",
      "Name: count, dtype: int64\n"
     ]
    }
   ],
   "source": [
    "## return the number of occurrences by\n",
    "value_counts = rarity_df['Source Notes'].value_counts().loc[lambda x : x<25]\n",
    "\n",
    "print(value_counts)"
   ]
  },
  {
   "cell_type": "code",
   "execution_count": 14,
   "id": "ae0578ae-8ea1-445f-b16e-e44ae8356583",
   "metadata": {},
   "outputs": [
    {
     "name": "stdout",
     "output_type": "stream",
     "text": [
      "Source Notes\n",
      "Not Applicable                                                                   0.304564\n",
      "Available from either Mable's temporary shop or Able Sisters shop                0.182012\n",
      "Available from Able Sisters shop only                                            0.168897\n",
      "Available in Nook's Cranny (either upgrade tier) in the unique furniture slot    0.070004\n",
      "Available in Nook's Cranny (upgraded only), in the unique furniture slot         0.064865\n",
      "                                                                                   ...   \n",
      "Available after unlocking the axe in the story                                   0.000089\n",
      "Available after unlocking the shovel in the story                                0.000089\n",
      "Obtained by speaking to Isabelle on New Year's Eve                               0.000089\n",
      "Only available close to new year holiday                                         0.000089\n",
      "Only available during May Day Tour                                               0.000089\n",
      "Name: proportion, Length: 72, dtype: float64\n"
     ]
    }
   ],
   "source": [
    "unique_values_count = rarity_df['Source Notes'].value_counts(normalize=True)\n",
    "print(unique_values_count)"
   ]
  },
  {
   "cell_type": "code",
   "execution_count": 18,
   "id": "717dab2d-9834-435c-bb52-b9efab5599b9",
   "metadata": {},
   "outputs": [
    {
     "name": "stdout",
     "output_type": "stream",
     "text": [
      "Source\n",
      "Able Sisters                  3970\n",
      "High Friendship               3128\n",
      "Nook's Cranny                 3085\n",
      "Crafting                      1728\n",
      "Nook's Shopping - Posters      452\n",
      "                              ... \n",
      "Fishing up three old tires       1\n",
      "Isabelle                         1\n",
      "Cyrus                            1\n",
      "May Day Tour                     1\n",
      "Winter Solstice Festival         1\n",
      "Name: count, Length: 215, dtype: int64\n"
     ]
    }
   ],
   "source": [
    "unique_values_count = rarity_df['Source'].value_counts()\n",
    "print(unique_values_count)"
   ]
  },
  {
   "cell_type": "markdown",
   "id": "e4c5ef8a-d9a2-44cf-973e-3d46494e8550",
   "metadata": {},
   "source": [
    "Item is common if\n",
    "Seasonal Availability = *Not Applicable* or *All Year*"
   ]
  },
  {
   "cell_type": "markdown",
   "id": "25ae4c43-587a-4119-8ca7-8f8a5d658810",
   "metadata": {},
   "source": [
    "Item is common if Catalog = For sale"
   ]
  },
  {
   "cell_type": "markdown",
   "id": "4ddd52fc-62a5-49f5-8e69-fb7cbc8fa27a",
   "metadata": {},
   "source": [
    "<h4>Normal items</h4>"
   ]
  },
  {
   "cell_type": "markdown",
   "id": "7c34c65b-cf7a-47a9-ba1d-4ed54c9debff",
   "metadata": {},
   "source": [
    "<h5>Normal items are obtained during the main story line</h5>"
   ]
  },
  {
   "cell_type": "code",
   "execution_count": 76,
   "id": "93ba9c17-c4b3-46c0-abc5-4b56141f6593",
   "metadata": {},
   "outputs": [
    {
     "name": "stdout",
     "output_type": "stream",
     "text": [
      "2275      simple wooden fence\n",
      "11928                  barrel\n",
      "11933                birdbath\n",
      "12001         classic pitcher\n",
      "12003             clothesline\n",
      "12146       iron garden chair\n",
      "12147       iron garden table\n",
      "12175                  ladder\n",
      "12193                 log bed\n",
      "12194               log bench\n",
      "12197        log dining table\n",
      "12199       log garden lounge\n",
      "12203               log stool\n",
      "12241    natural garden chair\n",
      "12242    natural garden table\n",
      "12290                     pot\n",
      "12379             stone table\n",
      "12428              water pump\n",
      "12448           wooden bucket\n",
      "12449            wooden chair\n",
      "12457       wooden simple bed\n",
      "12469     wooden-block stereo\n",
      "12471      wooden-block table\n",
      "Name: Name, dtype: object\n"
     ]
    }
   ],
   "source": [
    "## Normal items are obtained during the main storyline\n",
    "print(rarity_df.loc[rarity_df['Source Notes'].str.contains('main story', na = False), 'Name'])"
   ]
  },
  {
   "cell_type": "markdown",
   "id": "3eb9d9f0-63b7-4ec7-9d6d-c11c5ffbf77d",
   "metadata": {},
   "source": [
    "<h4>Scarce items</h4>"
   ]
  },
  {
   "cell_type": "markdown",
   "id": "dd05de98-4c6c-4c03-9a3a-d81de09d52d9",
   "metadata": {},
   "source": [
    "<h5>Scarce items are left up to chance</h5>"
   ]
  },
  {
   "cell_type": "code",
   "execution_count": 82,
   "id": "7663f317-32d2-47f9-ace7-d23ff299c863",
   "metadata": {},
   "outputs": [
    {
     "name": "stdout",
     "output_type": "stream",
     "text": [
      "                Name                                       Source Notes\n",
      "7811      Agent K.K.  Possible song KK will play when choosing \"It's...\n",
      "7812      Aloha K.K.  Possible song KK will play when choosing \"Laid...\n",
      "7814  Bubblegum K.K.  Possible song KK will play when choosing \"I fe...\n",
      "7815       Café K.K.  Possible song KK will play when choosing \"I fe...\n",
      "7816    Comrade K.K.  Possible song KK will play when choosing \"A li...\n",
      "...              ...                                                ...\n",
      "7900    Surfin' K.K.  Possible song KK will play when choosing \"A li...\n",
      "7901     The K. Funk  Possible song KK will play when choosing \"It's...\n",
      "7902     To the Edge  Possible song KK will play when choosing \"It's...\n",
      "7903    Two Days Ago  Possible song KK will play when choosing \"A li...\n",
      "7904       Wandering  Possible song KK will play when choosing \"Laid...\n",
      "\n",
      "[90 rows x 2 columns]\n"
     ]
    }
   ],
   "source": [
    "## scarce items are left up to chance\n",
    "print(rarity_df.loc[rarity_df['Source Notes'].str.contains('Possible', na = False), \n",
    "      ['Name','Source Notes']])"
   ]
  },
  {
   "cell_type": "raw",
   "id": "8e0c817e-89f8-4f6b-ba45-1ac7ba34babf",
   "metadata": {},
   "source": [
    "<h5>Scarce items require upgrades</h5>"
   ]
  },
  {
   "cell_type": "code",
   "execution_count": 85,
   "id": "aed12e8c-5b91-48bf-8f81-9c741784a466",
   "metadata": {},
   "outputs": [
    {
     "name": "stdout",
     "output_type": "stream",
     "text": [
      "                           Name  \\\n",
      "3236             air circulator   \n",
      "3237             air circulator   \n",
      "3238             air circulator   \n",
      "3239             air circulator   \n",
      "3240             air circulator   \n",
      "...                         ...   \n",
      "14792         red chic umbrella   \n",
      "14794        snowflake umbrella   \n",
      "14796       strawberry umbrella   \n",
      "14803       watermelon umbrella   \n",
      "14804  white shiny-bows parasol   \n",
      "\n",
      "                                            Source Notes  \n",
      "3236   Available in Nook's Cranny (either upgrade tie...  \n",
      "3237   Available in Nook's Cranny (either upgrade tie...  \n",
      "3238   Available in Nook's Cranny (either upgrade tie...  \n",
      "3239   Available in Nook's Cranny (either upgrade tie...  \n",
      "3240   Available in Nook's Cranny (either upgrade tie...  \n",
      "...                                                  ...  \n",
      "14792         Available in Nook's Cranny (upgraded only)  \n",
      "14794         Available in Nook's Cranny (upgraded only)  \n",
      "14796         Available in Nook's Cranny (upgraded only)  \n",
      "14803         Available in Nook's Cranny (upgraded only)  \n",
      "14804         Available in Nook's Cranny (upgraded only)  \n",
      "\n",
      "[2048 rows x 2 columns]\n"
     ]
    }
   ],
   "source": [
    "## item is scarce if source notes contains \"upgrade\"\n",
    "print(rarity_df.loc[rarity_df['Source Notes'].str.contains('upgrade', na = False),\n",
    "      ['Name', 'Source Notes']])"
   ]
  },
  {
   "cell_type": "markdown",
   "id": "fe525db9-b9f9-4da9-beda-f099ca0b331f",
   "metadata": {},
   "source": [
    "<h4>Rare items</h4>"
   ]
  },
  {
   "cell_type": "code",
   "execution_count": 7,
   "id": "e55ea8c9-897a-4cb1-ab8c-d6c6b2b539d5",
   "metadata": {},
   "outputs": [
    {
     "name": "stdout",
     "output_type": "stream",
     "text": [
      "Source\n",
      "Crafting; Tom Nook              1\n",
      "Summer Solstice Festival        1\n",
      "Tent                            1\n",
      "Red/red roses                   1\n",
      "Red/red tulips                  1\n",
      "                             ... \n",
      "Nook's Shopping - Posters     452\n",
      "Crafting                     1728\n",
      "Nook's Cranny                3085\n",
      "High Friendship              3128\n",
      "Able Sisters                 3970\n",
      "Name: count, Length: 215, dtype: int64\n"
     ]
    }
   ],
   "source": [
    "#Limited availability\n",
    "value_counts = rarity_df['Source'].value_counts(ascending=True)\n",
    "\n",
    "print(value_counts)"
   ]
  },
  {
   "cell_type": "code",
   "execution_count": null,
   "id": "a878e28a-9d45-4fc4-b920-7566c88a253a",
   "metadata": {},
   "outputs": [],
   "source": []
  },
  {
   "cell_type": "code",
   "execution_count": null,
   "id": "ccf26987-bde8-443d-a536-135c0c0aa152",
   "metadata": {},
   "outputs": [],
   "source": []
  },
  {
   "cell_type": "code",
   "execution_count": null,
   "id": "42496e81-2ba4-4a6e-bd8f-9a3d82d8ea6f",
   "metadata": {},
   "outputs": [],
   "source": []
  },
  {
   "cell_type": "markdown",
   "id": "942a9d40-2689-4902-b297-00cf44ed944d",
   "metadata": {},
   "source": [
    "Item is rare if Catalog = Not for sale"
   ]
  },
  {
   "cell_type": "markdown",
   "id": "f598bd1c-b615-4ccd-96f3-13c8adac5a12",
   "metadata": {},
   "source": [
    "Item is rare if only available in Fall or Spring"
   ]
  },
  {
   "cell_type": "markdown",
   "id": "9502de73-14d1-4655-9018-16185e0b3fc6",
   "metadata": {},
   "source": [
    "Item is rare if Source Notes contain \"only\""
   ]
  },
  {
   "cell_type": "code",
   "execution_count": null,
   "id": "8728dedb-040a-4a00-b746-c20248774659",
   "metadata": {},
   "outputs": [],
   "source": []
  }
 ],
 "metadata": {
  "kernelspec": {
   "display_name": "Python 3 (ipykernel)",
   "language": "python",
   "name": "python3"
  },
  "language_info": {
   "codemirror_mode": {
    "name": "ipython",
    "version": 3
   },
   "file_extension": ".py",
   "mimetype": "text/x-python",
   "name": "python",
   "nbconvert_exporter": "python",
   "pygments_lexer": "ipython3",
   "version": "3.11.9"
  }
 },
 "nbformat": 4,
 "nbformat_minor": 5
}
