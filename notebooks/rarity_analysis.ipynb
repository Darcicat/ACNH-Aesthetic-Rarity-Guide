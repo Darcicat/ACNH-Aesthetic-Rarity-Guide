{
 "cells": [
  {
   "cell_type": "markdown",
   "id": "09daead9-6c6f-4b6b-864f-564febc63c24",
   "metadata": {},
   "source": [
    "Rarity Analysis will look at items listed in the catalog and measures how difficult it would be to acquire. \n",
    "\n",
    "This notebook does the following:\n",
    "1. **Defines items** (by exploring the available catalogs. e.g. a \"Reaction\" is not an item, a \"bag\" is an item. Only the latter will be evaluated for rarity.)\n",
    "3. Defines criteria to be measured against to **determine rarity** (by exploring the columns in each catalog. Any dimension that indicates availability/restrictions/etc. could factor into the rarity calculation.)\n",
    "4. Determine the **rarity calculation** (based on the values within relevant columns, what items are rare and what items are common?) "
   ]
  },
  {
   "cell_type": "code",
   "execution_count": 2,
   "id": "0b5f7395-2d13-42d9-bae0-a31dffc94276",
   "metadata": {},
   "outputs": [],
   "source": [
    "import os\n",
    "import sys\n",
    "import pandas as pd\n",
    "os.chdir('..') #change the current working directory\n",
    "sys.path.append(os.getcwd()) #add diretory to the path"
   ]
  },
  {
   "cell_type": "markdown",
   "id": "6738f9f7-2bf6-4daa-8f51-2e5051f27278",
   "metadata": {},
   "source": [
    "<h4>Load data</h4>"
   ]
  },
  {
   "cell_type": "code",
   "execution_count": 3,
   "id": "e8664264-8cae-42ca-b02b-02122814d455",
   "metadata": {},
   "outputs": [
    {
     "name": "stdout",
     "output_type": "stream",
     "text": [
      "Loaded rarity with 15052 rows and 7 columns.\n"
     ]
    }
   ],
   "source": [
    "from rarity_concat import load_data\n",
    "data = load_data(data_folder='cleaned_data')"
   ]
  },
  {
   "cell_type": "code",
   "execution_count": 4,
   "id": "2674d477-9c26-4f3d-818d-c3ba6a1dfb37",
   "metadata": {},
   "outputs": [
    {
     "name": "stdout",
     "output_type": "stream",
     "text": [
      "Index(['Unique Entry ID', 'Name', 'Catalog', 'Source', 'Source Notes',\n",
      "       'Seasonal Availability', 'Item Type'],\n",
      "      dtype='object')\n"
     ]
    }
   ],
   "source": [
    "rarity_df = data['rarity'] #establish data as a dataframe\n",
    "print(rarity_df.columns) #print columns"
   ]
  },
  {
   "cell_type": "code",
   "execution_count": null,
   "id": "f39a167f-13a8-4517-9673-5496071cb369",
   "metadata": {},
   "outputs": [],
   "source": [
    "Establish rarity scale:\n",
    "1. Common (no restrictions)\n",
    "2. Normal - neither scarce or common (1-2 restrictions)\n",
    "3. Scarce (3-4 restrictions)\n",
    "4. Rare (5+ restrictions)"
   ]
  },
  {
   "cell_type": "markdown",
   "id": "7578a649-385a-4c05-a4f6-719dc436a8bc",
   "metadata": {},
   "source": [
    "<h4>Common Items</h4>"
   ]
  },
  {
   "cell_type": "markdown",
   "id": "e4c5ef8a-d9a2-44cf-973e-3d46494e8550",
   "metadata": {},
   "source": [
    "Item is common if\n",
    "Seasonal Availability = Not Applicable or All Year"
   ]
  },
  {
   "cell_type": "code",
   "execution_count": 11,
   "id": "224400ce-3dfa-4001-ac14-4350dc507bed",
   "metadata": {},
   "outputs": [
    {
     "name": "stdout",
     "output_type": "stream",
     "text": [
      "Seasonal Availability\n",
      "Not Applicable    10472\n",
      "All Year           3556\n",
      "Summer              524\n",
      "Winter              476\n",
      "Spring               14\n",
      "Fall                 10\n",
      "Name: count, dtype: int64\n"
     ]
    }
   ],
   "source": [
    "##Common items have no Seasonal restrictions. \n",
    "value_counts = rarity_df['Seasonal Availability'].value_counts()\n",
    "\n",
    "print(value_counts)"
   ]
  },
  {
   "cell_type": "markdown",
   "id": "25ae4c43-587a-4119-8ca7-8f8a5d658810",
   "metadata": {},
   "source": [
    "Item is common if Catalog = For sale"
   ]
  },
  {
   "cell_type": "code",
   "execution_count": 8,
   "id": "aa28e91f-76ba-41da-97fd-4e182ad6e39e",
   "metadata": {},
   "outputs": [
    {
     "name": "stdout",
     "output_type": "stream",
     "text": [
      "Source\n",
      "Able Sisters                  3970\n",
      "High Friendship               3128\n",
      "Nook's Cranny                 3085\n",
      "Crafting                      1728\n",
      "Nook's Shopping - Posters      452\n",
      "                              ... \n",
      "Fishing up three old tires       1\n",
      "Isabelle                         1\n",
      "Cyrus                            1\n",
      "May Day Tour                     1\n",
      "Winter Solstice Festival         1\n",
      "Name: count, Length: 215, dtype: int64\n"
     ]
    }
   ],
   "source": [
    "##Common items are widely available. \n",
    "value_counts = rarity_df['Source'].value_counts()\n",
    "\n",
    "print(value_counts)"
   ]
  },
  {
   "cell_type": "code",
   "execution_count": 10,
   "id": "7e2ba7cd-f22f-4e06-8167-a2dce56cc735",
   "metadata": {},
   "outputs": [
    {
     "name": "stdout",
     "output_type": "stream",
     "text": [
      "Source Notes\n",
      "Not Applicable                                                                   3437\n",
      "Available from either Mable's temporary shop or Able Sisters shop                2054\n",
      "Available from Able Sisters shop only                                            1906\n",
      "Available in Nook's Cranny (either upgrade tier) in the unique furniture slot     790\n",
      "Available in Nook's Cranny (upgraded only), in the unique furniture slot          732\n",
      "                                                                                 ... \n",
      "Available after unlocking the axe in the story                                      1\n",
      "Available after unlocking the shovel in the story                                   1\n",
      "Obtained by speaking to Isabelle on New Year's Eve                                  1\n",
      "Only available close to new year holiday                                            1\n",
      "Only available during May Day Tour                                                  1\n",
      "Name: count, Length: 72, dtype: int64\n"
     ]
    }
   ],
   "source": [
    "##Common items are widely available. \n",
    "value_counts = rarity_df['Source Notes'].value_counts()\n",
    "\n",
    "print(value_counts)"
   ]
  },
  {
   "cell_type": "code",
   "execution_count": 17,
   "id": "ae0578ae-8ea1-445f-b16e-e44ae8356583",
   "metadata": {},
   "outputs": [
    {
     "name": "stdout",
     "output_type": "stream",
     "text": [
      "Source Notes\n",
      "Not Applicable                                                                   3437\n",
      "Available from either Mable's temporary shop or Able Sisters shop                2054\n",
      "Available from Able Sisters shop only                                            1906\n",
      "Available in Nook's Cranny (either upgrade tier) in the unique furniture slot     790\n",
      "Available in Nook's Cranny (upgraded only), in the unique furniture slot          732\n",
      "                                                                                 ... \n",
      "Available after unlocking the axe in the story                                      1\n",
      "Available after unlocking the shovel in the story                                   1\n",
      "Obtained by speaking to Isabelle on New Year's Eve                                  1\n",
      "Only available close to new year holiday                                            1\n",
      "Only available during May Day Tour                                                  1\n",
      "Name: count, Length: 72, dtype: int64\n"
     ]
    }
   ],
   "source": [
    "unique_values_count = rarity_df['Source Notes'].value_counts()\n",
    "print(unique_values_count)"
   ]
  },
  {
   "cell_type": "code",
   "execution_count": 18,
   "id": "717dab2d-9834-435c-bb52-b9efab5599b9",
   "metadata": {},
   "outputs": [
    {
     "name": "stdout",
     "output_type": "stream",
     "text": [
      "Source\n",
      "Able Sisters                  3970\n",
      "High Friendship               3128\n",
      "Nook's Cranny                 3085\n",
      "Crafting                      1728\n",
      "Nook's Shopping - Posters      452\n",
      "                              ... \n",
      "Fishing up three old tires       1\n",
      "Isabelle                         1\n",
      "Cyrus                            1\n",
      "May Day Tour                     1\n",
      "Winter Solstice Festival         1\n",
      "Name: count, Length: 215, dtype: int64\n"
     ]
    }
   ],
   "source": [
    "unique_values_count = rarity_df['Source'].value_counts()\n",
    "print(unique_values_count)"
   ]
  },
  {
   "cell_type": "markdown",
   "id": "4ddd52fc-62a5-49f5-8e69-fb7cbc8fa27a",
   "metadata": {},
   "source": [
    "<h4>Rare items</h4>"
   ]
  },
  {
   "cell_type": "markdown",
   "id": "942a9d40-2689-4902-b297-00cf44ed944d",
   "metadata": {},
   "source": [
    "Item is rare if Catalog = Not for sale"
   ]
  },
  {
   "cell_type": "markdown",
   "id": "f598bd1c-b615-4ccd-96f3-13c8adac5a12",
   "metadata": {},
   "source": [
    "Item is rare if only available in Fall or Spring"
   ]
  },
  {
   "cell_type": "markdown",
   "id": "9502de73-14d1-4655-9018-16185e0b3fc6",
   "metadata": {},
   "source": [
    "Item is rare if Source Notes contain \"only\""
   ]
  },
  {
   "cell_type": "markdown",
   "id": "b8fb446e-851f-44cd-8d51-9a702ce2ca50",
   "metadata": {},
   "source": [
    "Item is rare if Source has less than 25 unique value_counts\n",
    "Item is rare if Source Notes has less than 25 unique value_counts"
   ]
  },
  {
   "cell_type": "code",
   "execution_count": null,
   "id": "8728dedb-040a-4a00-b746-c20248774659",
   "metadata": {},
   "outputs": [],
   "source": []
  }
 ],
 "metadata": {
  "kernelspec": {
   "display_name": "Python 3 (ipykernel)",
   "language": "python",
   "name": "python3"
  },
  "language_info": {
   "codemirror_mode": {
    "name": "ipython",
    "version": 3
   },
   "file_extension": ".py",
   "mimetype": "text/x-python",
   "name": "python",
   "nbconvert_exporter": "python",
   "pygments_lexer": "ipython3",
   "version": "3.11.9"
  }
 },
 "nbformat": 4,
 "nbformat_minor": 5
}
