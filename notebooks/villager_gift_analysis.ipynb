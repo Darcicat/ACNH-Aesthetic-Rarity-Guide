{
 "cells": [
  {
   "cell_type": "markdown",
   "id": "b338272b-5279-4e82-8172-ec0c132a0a68",
   "metadata": {},
   "source": [
    "This notebook does the following:\n",
    "1. Identifies Villager dimensions that **indicate interests**. (e.g. personality, hobby, Favorite Song).\n",
    "2. Evaluates an **item's giftability** (by exploring the columns in each catalog & aligning with the determined 'interest' considerations)\n",
    "3. Determine **required next steps/to do's for cleaning data**."
   ]
  },
  {
   "cell_type": "code",
   "execution_count": 2,
   "id": "7ec29392-00ab-4f65-8a73-9a6d280178fd",
   "metadata": {},
   "outputs": [
    {
     "name": "stdout",
     "output_type": "stream",
     "text": [
      "done\n"
     ]
    }
   ],
   "source": [
    "import os\n",
    "import sys\n",
    "import pandas as pd\n",
    "from pathlib import Path\n",
    "print('done')"
   ]
  },
  {
   "cell_type": "code",
   "execution_count": 3,
   "id": "ece0743c-1cd5-4e51-9179-85d416c27ed4",
   "metadata": {},
   "outputs": [
    {
     "name": "stdout",
     "output_type": "stream",
     "text": [
      "Added C:\\Users\\Code Lou\\Documents\\ACNH_Aesthetic_Rarity_Guide\\notebooks\\..\\src to sys.path\n"
     ]
    }
   ],
   "source": [
    "notebook_dir = Path(os.getcwd()) #get directory where this notebook is located\n",
    "src_dir = os.path.join(notebook_dir, '..', 'src') #create relative path to 'src' directory\n",
    "if os.path.exists(src_dir):\n",
    "    sys.path.append(src_dir)\n",
    "    print(f\"Added {src_dir} to sys.path\")\n",
    "else:\n",
    "    print(f\"Error: {src_dir} does not exist\")"
   ]
  },
  {
   "cell_type": "code",
   "execution_count": 4,
   "id": "6dbf19e0-a6f5-4e82-b7bf-bd4a59e1a057",
   "metadata": {},
   "outputs": [
    {
     "name": "stdout",
     "output_type": "stream",
     "text": [
      "Loaded accessories with 222 rows and 22 columns.\n",
      "Loaded achievements with 84 rows and 21 columns.\n",
      "Loaded art with 70 rows and 26 columns.\n",
      "Loaded bags with 96 rows and 20 columns.\n",
      "Loaded bottoms with 726 rows and 20 columns.\n",
      "Loaded construction with 236 rows and 7 columns.\n",
      "Loaded dress-up with 913 rows and 22 columns.\n",
      "Loaded fencing with 19 rows and 11 columns.\n",
      "Loaded fish with 80 rows and 41 columns.\n",
      "Loaded floors with 176 rows and 19 columns.\n",
      "Loaded fossils with 73 rows and 14 columns.\n",
      "Loaded headwear with 698 rows and 22 columns.\n",
      "Loaded housewares with 3275 rows and 32 columns.\n",
      "Loaded insects with 80 rows and 38 columns.\n",
      "Loaded miscellaneous with 1307 rows and 31 columns.\n",
      "Loaded music with 98 rows and 13 columns.\n",
      "Loaded other with 353 rows and 15 columns.\n",
      "Loaded photos with 3128 rows and 20 columns.\n",
      "Loaded posters with 452 rows and 13 columns.\n",
      "Loaded reactions with 44 rows and 5 columns.\n",
      "Loaded recipes with 595 rows and 24 columns.\n",
      "Loaded rugs with 132 rows and 19 columns.\n",
      "Loaded shoes with 454 rows and 21 columns.\n",
      "Loaded socks with 350 rows and 21 columns.\n",
      "Loaded tools with 200 rows and 22 columns.\n",
      "Loaded tops with 1121 rows and 21 columns.\n",
      "Loaded umbrellas with 67 rows and 16 columns.\n",
      "Loaded villagers with 391 rows and 17 columns.\n",
      "Loaded wall-mounted with 3275 rows and 31 columns.\n",
      "Loaded wallpaper with 247 rows and 26 columns.\n"
     ]
    }
   ],
   "source": [
    "from initial_load import load_data\n",
    "data = load_data()\n",
    "#print(os.getcwd())\n",
    "#cwd = C:\\Users\\Code Lou\\Documents\\ACNH_Aesthetic_Rarity_Guide\\notebooks"
   ]
  },
  {
   "cell_type": "markdown",
   "id": "89ef542f-0aca-49fb-b8cb-613a6cba568a",
   "metadata": {},
   "source": [
    "<h4>Identify villager dimensions that should be considered when recommending a gift</h4>"
   ]
  },
  {
   "cell_type": "code",
   "execution_count": 4,
   "id": "103517a1-a965-445d-93fd-43b3d2f76ac6",
   "metadata": {},
   "outputs": [
    {
     "name": "stdout",
     "output_type": "stream",
     "text": [
      "Index(['Name', 'Species', 'Gender', 'Personality', 'Hobby', 'Birthday',\n",
      "       'Catchphrase', 'Favorite Song', 'Style 1', 'Style 2', 'Color 1',\n",
      "       'Color 2', 'Wallpaper', 'Flooring', 'Furniture List', 'Filename',\n",
      "       'Unique Entry ID'],\n",
      "      dtype='object')\n"
     ]
    }
   ],
   "source": [
    "#Villagers\n",
    "villagers_df = data['villagers'] #access the Villager data from the dictionary\n",
    "print(villagers_df.columns) #retrieve the column names"
   ]
  },
  {
   "cell_type": "markdown",
   "id": "2a3ebea4-31e7-4a93-9731-1c90c133cabb",
   "metadata": {},
   "source": [
    "**Personality**, **Hobby**, **Favorite Song**, **Style 1** and **Style 2** indicate a villager's interests."
   ]
  },
  {
   "cell_type": "markdown",
   "id": "c7c20708-8681-4462-8e2f-eeec44673bab",
   "metadata": {},
   "source": [
    "<h4>Investigate Hobby</h4>"
   ]
  },
  {
   "cell_type": "code",
   "execution_count": 5,
   "id": "17580ec8-76a4-4b53-b35f-b19659385a9e",
   "metadata": {},
   "outputs": [
    {
     "name": "stdout",
     "output_type": "stream",
     "text": [
      "Hobby\n",
      "Nature       66\n",
      "Fitness      66\n",
      "Fashion      66\n",
      "Play         65\n",
      "Education    64\n",
      "Music        64\n",
      "Name: count, dtype: int64\n"
     ]
    }
   ],
   "source": [
    "value_counts = villagers_df['Hobby'].value_counts()\n",
    "\n",
    "print(value_counts)"
   ]
  },
  {
   "cell_type": "markdown",
   "id": "16c2f9e2-e472-4c25-b13f-f14f28dcbdaa",
   "metadata": {},
   "source": [
    "<h4>Investigate Favorite Song</h4>"
   ]
  },
  {
   "cell_type": "code",
   "execution_count": 6,
   "id": "b08eb2b8-087b-4c79-a600-3bb5207ebee0",
   "metadata": {},
   "outputs": [
    {
     "name": "stdout",
     "output_type": "stream",
     "text": [
      "Favorite Song\n",
      "Forest Life      15\n",
      "K.K. Soul        12\n",
      "K.K. Cruisin'    11\n",
      "K.K. Stroll      10\n",
      "Neapolitan        9\n",
      "                 ..\n",
      "K.K. Lullaby      1\n",
      "K.K. Jazz         1\n",
      "K.K. Tango        1\n",
      "K.K. Aria         1\n",
      "K.K. Parade       1\n",
      "Name: count, Length: 89, dtype: int64\n"
     ]
    }
   ],
   "source": [
    "value_counts = villagers_df['Favorite Song'].value_counts()\n",
    "\n",
    "print(value_counts)"
   ]
  },
  {
   "cell_type": "code",
   "execution_count": 7,
   "id": "2ca87f76-e103-4070-9d89-436599582b72",
   "metadata": {},
   "outputs": [
    {
     "name": "stdout",
     "output_type": "stream",
     "text": [
      "Index(['Name', 'Buy', 'Sell', 'Color 1', 'Color 2', 'Size', 'Source',\n",
      "       'Source Notes', 'Version', 'Catalog', 'Filename', 'Internal ID',\n",
      "       'Unique Entry ID'],\n",
      "      dtype='object')\n"
     ]
    }
   ],
   "source": [
    "#Investigate Music datafarme - what dimension indicates song titles?\n",
    "music_df = data['music'] #access the Music data from the dictionary\n",
    "print(music_df.columns) #retrieve the column names"
   ]
  },
  {
   "cell_type": "code",
   "execution_count": 8,
   "id": "4b8ed8e9-c48e-4ae0-9f1b-769fc87a1f25",
   "metadata": {},
   "outputs": [],
   "source": [
    "#Name"
   ]
  },
  {
   "cell_type": "markdown",
   "id": "213958e8-905d-4188-aaa6-58a159396437",
   "metadata": {},
   "source": [
    "<h4>Investigate Personalities</h4>"
   ]
  },
  {
   "cell_type": "code",
   "execution_count": 9,
   "id": "12ed49c8-7db8-4c03-9487-9b7642bfe3ed",
   "metadata": {},
   "outputs": [
    {
     "name": "stdout",
     "output_type": "stream",
     "text": [
      "Personality\n",
      "Lazy          60\n",
      "Normal        59\n",
      "Snooty        55\n",
      "Cranky        55\n",
      "Jock          55\n",
      "Peppy         49\n",
      "Smug          34\n",
      "Big Sister    24\n",
      "Name: count, dtype: int64\n"
     ]
    }
   ],
   "source": [
    "#How many personalities are there?\n",
    "value_counts = villagers_df['Personality'].value_counts()\n",
    "\n",
    "print(value_counts)"
   ]
  },
  {
   "cell_type": "markdown",
   "id": "8569d1cf-ed42-4307-8032-40672fc7c5b6",
   "metadata": {},
   "source": [
    "<h4>Investigate Style 1 & 2</h4>"
   ]
  },
  {
   "cell_type": "code",
   "execution_count": 11,
   "id": "c8fe1396-384e-4318-abdd-78e3e58939b7",
   "metadata": {},
   "outputs": [
    {
     "name": "stdout",
     "output_type": "stream",
     "text": [
      "Style 1\n",
      "Simple      118\n",
      "Cool         68\n",
      "Cute         63\n",
      "Elegant      54\n",
      "Active       50\n",
      "Gorgeous     38\n",
      "Name: count, dtype: int64\n"
     ]
    }
   ],
   "source": [
    "#How many Styles are there?\n",
    "value_counts = villagers_df['Style 1'].value_counts()\n",
    "\n",
    "print(value_counts)"
   ]
  },
  {
   "cell_type": "markdown",
   "id": "f1b557de-c96a-419f-9d0c-a9f987f8af01",
   "metadata": {},
   "source": [
    "What columns in other dataframes may indicate that the item aligns with a villager's style 1 and/or style 2?\n",
    "1. Style (indicates item aesthetic)\n",
    "2. Label Themes (related to Label's Fashion Challenges, indicates what theme/style/aesthetic the item belongs)\n",
    "3. HHA Concept 1 (the primary theme/aesthetic/style/concept as determined by Happy Home Academy)\n",
    "4. HHA Concept 2 (the scondary theme/aesthetic/style/concept as determined by Happy Home Academy)\n",
    "Identify Data frames containing each of those columns."
   ]
  },
  {
   "cell_type": "code",
   "execution_count": 12,
   "id": "846e14b7-ef2f-469c-a442-60f9e3f44cc8",
   "metadata": {},
   "outputs": [
    {
     "name": "stdout",
     "output_type": "stream",
     "text": [
      "Dataframes with \"Style\" Column:  ['accessories', 'bags', 'bottoms', 'dress-up', 'headwear', 'shoes', 'socks', 'tops']\n"
     ]
    }
   ],
   "source": [
    "#Check which dataframes contain the Style column\n",
    "#create the function that'll return relevant dataframes\n",
    "def get_dfs_with_column(data, column_name): \n",
    "    items = []\n",
    "    for name, df in data.items():\n",
    "        if column_name in df.columns:\n",
    "            items.append(name)\n",
    "    return items\n",
    "#call the function\n",
    "results = get_dfs_with_column(data, 'Style')\n",
    "print('Dataframes with \"Style\" Column: ', results)"
   ]
  },
  {
   "cell_type": "code",
   "execution_count": 13,
   "id": "070e45e1-ae44-4bb3-9666-255a1f61ec38",
   "metadata": {},
   "outputs": [
    {
     "name": "stdout",
     "output_type": "stream",
     "text": [
      "Dataframes with \"Label Themes\" Column:  ['accessories', 'bags', 'bottoms', 'dress-up', 'headwear', 'shoes', 'socks', 'tops']\n"
     ]
    }
   ],
   "source": [
    "#Check which dataframes contain the Label Themes column\n",
    "#create the function that'll return relevant dataframes\n",
    "def get_dfs_with_column(data, column_name): \n",
    "    items = []\n",
    "    for name, df in data.items():\n",
    "        if column_name in df.columns:\n",
    "            items.append(name)\n",
    "    return items\n",
    "#call the function\n",
    "results = get_dfs_with_column(data, 'Label Themes')\n",
    "print('Dataframes with \"Label Themes\" Column: ', results)"
   ]
  },
  {
   "cell_type": "code",
   "execution_count": 14,
   "id": "683ab7ea-f192-4159-b870-96ea68fc6f90",
   "metadata": {},
   "outputs": [
    {
     "name": "stdout",
     "output_type": "stream",
     "text": [
      "Dataframes with \"HHA Concept 1\" Column:  ['art', 'floors', 'housewares', 'miscellaneous', 'rugs', 'wall-mounted', 'wallpaper']\n"
     ]
    }
   ],
   "source": [
    "#Check which dataframes contain an HHA Concept column\n",
    "#create the function that'll return relevant dataframes\n",
    "def get_dfs_with_column(data, column_name): \n",
    "    items = []\n",
    "    for name, df in data.items():\n",
    "        if column_name in df.columns:\n",
    "            items.append(name)\n",
    "    return items\n",
    "#call the function\n",
    "results = get_dfs_with_column(data, 'HHA Concept 1')\n",
    "print('Dataframes with \"HHA Concept 1\" Column: ', results)"
   ]
  },
  {
   "cell_type": "code",
   "execution_count": 15,
   "id": "f06f2102-3fb8-4b82-a547-a87689b9363c",
   "metadata": {},
   "outputs": [
    {
     "name": "stdout",
     "output_type": "stream",
     "text": [
      "Dataframes with \"HHA Concept 2\" Column:  ['art', 'floors', 'housewares', 'miscellaneous', 'rugs', 'wall-mounted', 'wallpaper']\n"
     ]
    }
   ],
   "source": [
    "#Check which dataframes contain an HHA Concept column\n",
    "#create the function that'll return relevant dataframes\n",
    "def get_dfs_with_column(data, column_name): \n",
    "    items = []\n",
    "    for name, df in data.items():\n",
    "        if column_name in df.columns:\n",
    "            items.append(name)\n",
    "    return items\n",
    "#call the function\n",
    "results = get_dfs_with_column(data, 'HHA Concept 2')\n",
    "print('Dataframes with \"HHA Concept 2\" Column: ', results)"
   ]
  },
  {
   "cell_type": "code",
   "execution_count": 16,
   "id": "abdf28ab-fec4-4c86-a873-6d5196581472",
   "metadata": {},
   "outputs": [
    {
     "name": "stdout",
     "output_type": "stream",
     "text": [
      "Dataframes with \"Unique Entry ID\" Column:  ['accessories', 'achievements', 'art', 'bags', 'bottoms', 'construction', 'dress-up', 'fencing', 'fish', 'floors', 'fossils', 'headwear', 'housewares', 'insects', 'miscellaneous', 'music', 'other', 'photos', 'posters', 'reactions', 'recipes', 'rugs', 'shoes', 'socks', 'tools', 'tops', 'umbrellas', 'villagers', 'wall-mounted', 'wallpaper']\n"
     ]
    }
   ],
   "source": [
    "#Make sure all dataframes contain Unique Entry ID\n",
    "#create the function that'll return relevant dataframes\n",
    "def get_dfs_with_column(data, column_name): \n",
    "    items = []\n",
    "    for name, df in data.items():\n",
    "        if column_name in df.columns:\n",
    "            items.append(name)\n",
    "    return items\n",
    "#call the function\n",
    "results = get_dfs_with_column(data, 'Unique Entry ID')\n",
    "print('Dataframes with \"Unique Entry ID\" Column: ', results)"
   ]
  },
  {
   "cell_type": "markdown",
   "id": "8b9860b9-b015-47a7-9200-57302712f6cd",
   "metadata": {},
   "source": [
    "<h3> Cleaning To Do's</h3>"
   ]
  },
  {
   "cell_type": "markdown",
   "id": "402aee02-c83c-4389-bc0c-3a28a4e5901e",
   "metadata": {},
   "source": [
    "1. Build out the giftable_df (a catalog containing only the items relevant for this analysis.)\n",
    "2.  join accessories_df, art_df, bags_df, bottoms_df, dress_up_df, floors_df, headwear_df, housewares_df, miscellaneous_df, music_df, rugs_df, shoes_df, socks_df, tops_df, wall_mounted_df, and wallpaper_df by the unique entry ID columns.\n",
    "3. remove items from the giftable dataframe if they contain empty/null/NA values in the music.name, style, label theme, HHA concept."
   ]
  },
  {
   "cell_type": "markdown",
   "id": "25afa0ee-fb34-49fc-bd0d-8808c9638891",
   "metadata": {},
   "source": [
    "<h3>Gift Guide Planning</h3>"
   ]
  },
  {
   "cell_type": "markdown",
   "id": "71fc5a6f-ae52-4a0f-b217-80004b768247",
   "metadata": {},
   "source": [
    "Include Item in Gift Guide if:\n",
    "- music's (name) is villager's (favorite song)\n",
    "- item's (style) matches villager's (style 1|style 2)\n",
    "- item's (Label Theme) matches villager's (style 1|style 2)\n",
    "- item's (HHA Concept 1) matches villager's (style 1|style 2)\n",
    "- item's (HHA Concept 2) matches villager's (style 1|style 2)"
   ]
  }
 ],
 "metadata": {
  "kernelspec": {
   "display_name": "Python 3 (ipykernel)",
   "language": "python",
   "name": "python3"
  },
  "language_info": {
   "codemirror_mode": {
    "name": "ipython",
    "version": 3
   },
   "file_extension": ".py",
   "mimetype": "text/x-python",
   "name": "python",
   "nbconvert_exporter": "python",
   "pygments_lexer": "ipython3",
   "version": "3.11.9"
  }
 },
 "nbformat": 4,
 "nbformat_minor": 5
}
